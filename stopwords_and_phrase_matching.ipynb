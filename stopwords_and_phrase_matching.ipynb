{
  "nbformat": 4,
  "nbformat_minor": 0,
  "metadata": {
    "colab": {
      "name": "stopwords_and_phrase_matching.ipynb",
      "provenance": [],
      "collapsed_sections": [],
      "mount_file_id": "1OruU6EYgKTeULDpTgGeI3N_sp9leg6Af",
      "authorship_tag": "ABX9TyPAIs58RVcBIMH5W7/zQmNi",
      "include_colab_link": true
    },
    "kernelspec": {
      "name": "python3",
      "display_name": "Python 3"
    },
    "language_info": {
      "name": "python"
    }
  },
  "cells": [
    {
      "cell_type": "markdown",
      "metadata": {
        "id": "view-in-github",
        "colab_type": "text"
      },
      "source": [
        "<a href=\"https://colab.research.google.com/github/kunjkinger/machine-learning-projects/blob/nlp/stopwords_and_phrase_matching.ipynb\" target=\"_parent\"><img src=\"https://colab.research.google.com/assets/colab-badge.svg\" alt=\"Open In Colab\"/></a>"
      ]
    },
    {
      "cell_type": "code",
      "metadata": {
        "id": "QbC0t2gwb9IZ"
      },
      "source": [
        "import spacy "
      ],
      "execution_count": 5,
      "outputs": []
    },
    {
      "cell_type": "code",
      "metadata": {
        "id": "y2CSeLZAcT2N"
      },
      "source": [
        "nlp = spacy.load('en_core_web_sm')"
      ],
      "execution_count": 6,
      "outputs": []
    },
    {
      "cell_type": "code",
      "metadata": {
        "colab": {
          "base_uri": "https://localhost:8080/"
        },
        "id": "TNyw4fDWcZa1",
        "outputId": "933df7ac-51b5-4a17-aa34-44565f61a2c4"
      },
      "source": [
        "print(nlp.Defaults.stop_words)"
      ],
      "execution_count": 7,
      "outputs": [
        {
          "output_type": "stream",
          "text": [
            "{'enough', \"'re\", 'yet', 'unless', 'very', 'then', 'ours', 'though', 'you', '’re', 'might', 'here', 'also', 'except', 'he', 'than', 'already', 'side', 'does', 'together', 'yourselves', 'using', 'myself', 'us', 'as', 'whereafter', 'no', 'show', 'same', 'well', 'give', 'did', 'any', 'behind', 'sometimes', 'down', 'formerly', 'wherever', '‘d', 'get', 'do', 'up', 'whenever', 'nevertheless', 'toward', 'twelve', 'i', 'ca', 'something', 'really', 'on', 'along', 'those', 'rather', 'everything', 'per', 'while', 'each', 'everyone', 'never', 'your', '’s', 'before', 'sometime', 'hereby', 'five', 'move', 'others', 'therefore', 'or', 'back', 'towards', 'we', 'have', 'not', 'forty', 'mine', 'thence', 'hers', \"'d\", 'amongst', 'indeed', 'there', 'elsewhere', 'namely', 'into', 'amount', 'after', 'becoming', 'can', 'eleven', 'none', 'thereby', 'anywhere', 'less', 'anyway', 'perhaps', 'whose', 'eight', 'doing', 'top', 'often', 'least', 'himself', 'her', 'many', 'him', 'above', 'been', 'are', 'n’t', 'sixty', 'whence', 'an', 'under', 'over', 'full', 'latterly', 'around', 'whole', 'had', 'when', 'these', 'meanwhile', 'nobody', 'other', 'whether', 'bottom', 'will', 'thereafter', 'however', 'n‘t', 'nine', 'say', 'call', '‘ve', 'made', 'seems', 'were', 'whither', 'so', '’m', 'which', '’ve', 'since', \"'s\", 'someone', 'anything', 'but', 'front', 'yours', 'would', 'against', 'what', 'hereafter', '‘s', 'between', 'empty', 'nothing', 'whoever', 'one', 'further', 'name', 'still', 'was', 'below', 'even', 'more', \"'m\", 'nor', 'fifty', \"'ll\", 'ever', 'yourself', 'the', 'themselves', 'done', 'latter', 'see', 'almost', 'most', 'third', 'take', 'mostly', 'herein', 'anyone', '‘re', 'else', '‘m', 'their', 'how', 'off', 'upon', 'without', 'three', 'various', 'beside', 'his', 'hence', 'throughout', 'next', 'only', 'seem', 'anyhow', 'whereas', 'to', 'it', 'four', 'alone', 'twenty', 'they', 'she', 'every', 'keep', '’ll', 'now', 'such', 'must', 'both', 'regarding', '’d', 'noone', 'beforehand', 'somewhere', 'seemed', 'hundred', 'neither', 'besides', 'my', 'once', 'them', 'if', 'for', 're', 'several', 'may', 'put', 'is', 'itself', 'some', 'where', 'somehow', 'becomes', 'whereby', 'hereupon', 'thus', 'former', 'become', 'who', \"n't\", 'herself', 'make', 'either', 'within', 'because', 'afterwards', \"'ve\", 'just', 'again', 'serious', 'whom', 'onto', 'please', 'am', 'during', 'and', 'beyond', 'could', 'therein', 'six', 'through', 'used', 'about', 'among', 'moreover', 'few', 'its', 'should', 'has', 'ourselves', 'own', 'at', 'go', 'with', 'be', 'this', 'although', 'part', 'across', 'being', 'due', 'that', 'another', 'fifteen', 'nowhere', 'cannot', 'all', 'too', 'whatever', 'from', 'via', 'of', 'by', 'our', 'why', 'thru', 'in', 'otherwise', 'first', '‘ll', 'thereupon', 'became', 'until', 'whereupon', 'everywhere', 'seeming', 'last', 'out', 'me', 'quite', 'a', 'always', 'two', 'wherein', 'much', 'ten'}\n"
          ],
          "name": "stdout"
        }
      ]
    },
    {
      "cell_type": "code",
      "metadata": {
        "colab": {
          "base_uri": "https://localhost:8080/"
        },
        "id": "XYwEflbVcefS",
        "outputId": "a389836b-d188-4b58-ebb7-4640ca01227a"
      },
      "source": [
        "len(nlp.Defaults.stop_words)"
      ],
      "execution_count": null,
      "outputs": [
        {
          "output_type": "execute_result",
          "data": {
            "text/plain": [
              "326"
            ]
          },
          "metadata": {
            "tags": []
          },
          "execution_count": 4
        }
      ]
    },
    {
      "cell_type": "code",
      "metadata": {
        "colab": {
          "base_uri": "https://localhost:8080/"
        },
        "id": "FCTGnYeBclbB",
        "outputId": "34efc5d7-2c62-4730-924f-3feeadfe5c11"
      },
      "source": [
        "nlp.vocab['is'].is_stop"
      ],
      "execution_count": null,
      "outputs": [
        {
          "output_type": "execute_result",
          "data": {
            "text/plain": [
              "True"
            ]
          },
          "metadata": {
            "tags": []
          },
          "execution_count": 5
        }
      ]
    },
    {
      "cell_type": "code",
      "metadata": {
        "id": "dovX0iZwcowY"
      },
      "source": [
        "nlp.Defaults.stop_words.add('btw')"
      ],
      "execution_count": null,
      "outputs": []
    },
    {
      "cell_type": "code",
      "metadata": {
        "id": "GMsoK9JPc9XK"
      },
      "source": [
        "nlp.vocab['btw'].is_stop = True"
      ],
      "execution_count": null,
      "outputs": []
    },
    {
      "cell_type": "code",
      "metadata": {
        "colab": {
          "base_uri": "https://localhost:8080/"
        },
        "id": "ZN6OB65PdB3J",
        "outputId": "e187db21-78bf-45cf-d392-a7887c61e66a"
      },
      "source": [
        "len(nlp.Defaults.stop_words)"
      ],
      "execution_count": null,
      "outputs": [
        {
          "output_type": "execute_result",
          "data": {
            "text/plain": [
              "327"
            ]
          },
          "metadata": {
            "tags": []
          },
          "execution_count": 8
        }
      ]
    },
    {
      "cell_type": "code",
      "metadata": {
        "colab": {
          "base_uri": "https://localhost:8080/"
        },
        "id": "40T9nLd0dEUe",
        "outputId": "79346510-f544-4f57-d4a0-c499c3b0e9fb"
      },
      "source": [
        "nlp.vocab['btw'].is_stop"
      ],
      "execution_count": null,
      "outputs": [
        {
          "output_type": "execute_result",
          "data": {
            "text/plain": [
              "True"
            ]
          },
          "metadata": {
            "tags": []
          },
          "execution_count": 9
        }
      ]
    },
    {
      "cell_type": "code",
      "metadata": {
        "colab": {
          "base_uri": "https://localhost:8080/"
        },
        "id": "5hlol1emdKPh",
        "outputId": "9625ba57-abad-4d0e-dc79-539c33760ab0"
      },
      "source": [
        "nlp.vocab['kunj'].is_stop"
      ],
      "execution_count": null,
      "outputs": [
        {
          "output_type": "execute_result",
          "data": {
            "text/plain": [
              "False"
            ]
          },
          "metadata": {
            "tags": []
          },
          "execution_count": 10
        }
      ]
    },
    {
      "cell_type": "code",
      "metadata": {
        "id": "ovaArpaYdOz2"
      },
      "source": [
        "nlp.Defaults.stop_words.add('kunj')"
      ],
      "execution_count": null,
      "outputs": []
    },
    {
      "cell_type": "code",
      "metadata": {
        "id": "DIS47eGPdT1L"
      },
      "source": [
        "nlp.vocab['kunj'].is_stop = True"
      ],
      "execution_count": null,
      "outputs": []
    },
    {
      "cell_type": "code",
      "metadata": {
        "colab": {
          "base_uri": "https://localhost:8080/"
        },
        "id": "37cXD36edXr3",
        "outputId": "7ad2b941-9a63-48d9-a1f3-f56f102ffc02"
      },
      "source": [
        "nlp.vocab['kunj'].is_stop"
      ],
      "execution_count": null,
      "outputs": [
        {
          "output_type": "execute_result",
          "data": {
            "text/plain": [
              "True"
            ]
          },
          "metadata": {
            "tags": []
          },
          "execution_count": 13
        }
      ]
    },
    {
      "cell_type": "code",
      "metadata": {
        "id": "h6V1ZZeidb6V"
      },
      "source": [
        "nlp.Defaults.stop_words.remove('kunj')"
      ],
      "execution_count": null,
      "outputs": []
    },
    {
      "cell_type": "code",
      "metadata": {
        "id": "4WJegprqdjBG"
      },
      "source": [
        "nlp.vocab['kunj'].is_stop = False"
      ],
      "execution_count": null,
      "outputs": []
    },
    {
      "cell_type": "code",
      "metadata": {
        "colab": {
          "base_uri": "https://localhost:8080/"
        },
        "id": "0hzc62SydnbQ",
        "outputId": "5e1f0b5a-82ac-44e6-8bea-ab8b9a1601e7"
      },
      "source": [
        "nlp.vocab['kunj'].is_stop"
      ],
      "execution_count": null,
      "outputs": [
        {
          "output_type": "execute_result",
          "data": {
            "text/plain": [
              "False"
            ]
          },
          "metadata": {
            "tags": []
          },
          "execution_count": 16
        }
      ]
    },
    {
      "cell_type": "code",
      "metadata": {
        "id": "8BWHmLSAdpxx"
      },
      "source": [
        "from spacy.matcher import Matcher"
      ],
      "execution_count": null,
      "outputs": []
    },
    {
      "cell_type": "code",
      "metadata": {
        "id": "ySprdtSAebas"
      },
      "source": [
        "matcher = Matcher(nlp.vocab)"
      ],
      "execution_count": null,
      "outputs": []
    },
    {
      "cell_type": "code",
      "metadata": {
        "id": "LGVU42_aed9b"
      },
      "source": [
        "#SolarPower\n",
        "pattern1 = [{'LOWER':'solarpower'}]\n",
        "\n",
        "#solar-power\n",
        "pattern2 = [{'LOWER':'solar'},{'IS_PUNCT':True},{'LOWER':'power'}]\n",
        "\n",
        "#Solar power\n",
        "pattern3 = [{'LOWER':'solar'},{'LOWER':'power'}]"
      ],
      "execution_count": null,
      "outputs": []
    },
    {
      "cell_type": "code",
      "metadata": {
        "id": "-dAs36hcewaB"
      },
      "source": [
        "matcher.add('SolarPower',None,pattern1,pattern2,pattern3)"
      ],
      "execution_count": null,
      "outputs": []
    },
    {
      "cell_type": "code",
      "metadata": {
        "id": "woQiEJNkfrQm"
      },
      "source": [
        "doc = nlp(u\"The Solar Power industry continues to grow as solarpower increases.Solar-power is amazing.\")"
      ],
      "execution_count": null,
      "outputs": []
    },
    {
      "cell_type": "code",
      "metadata": {
        "id": "qFO1QM6qf7cY"
      },
      "source": [
        "found_matches = matcher(doc)"
      ],
      "execution_count": null,
      "outputs": []
    },
    {
      "cell_type": "code",
      "metadata": {
        "colab": {
          "base_uri": "https://localhost:8080/"
        },
        "id": "d8YmjEq4gBRm",
        "outputId": "e107e4b1-1c67-407c-9faf-28b42ba3229e"
      },
      "source": [
        "print(found_matches) #printing the founding locations of that match first shows the indexing id and then starting and ending indexes"
      ],
      "execution_count": null,
      "outputs": [
        {
          "output_type": "stream",
          "text": [
            "[(8656102463236116519, 1, 3), (8656102463236116519, 8, 9), (8656102463236116519, 11, 14)]\n"
          ],
          "name": "stdout"
        }
      ]
    },
    {
      "cell_type": "code",
      "metadata": {
        "colab": {
          "base_uri": "https://localhost:8080/"
        },
        "id": "9iKcakoTgECO",
        "outputId": "1924d40b-2ced-4bd0-987b-57d21cf6e6c6"
      },
      "source": [
        "for match_id,start, end in found_matches:\n",
        "  string_id = nlp.vocab.strings[match_id]\n",
        "  span = doc[start:end]\n",
        "  print(match_id,string_id,start,end,span.text)"
      ],
      "execution_count": null,
      "outputs": [
        {
          "output_type": "stream",
          "text": [
            "8656102463236116519 SolarPower 1 3 Solar Power\n",
            "8656102463236116519 SolarPower 8 9 solarpower\n",
            "8656102463236116519 SolarPower 11 14 Solar-power\n"
          ],
          "name": "stdout"
        }
      ]
    },
    {
      "cell_type": "code",
      "metadata": {
        "id": "quBGdYePg0eU"
      },
      "source": [
        "matcher.remove('SolarPower')"
      ],
      "execution_count": null,
      "outputs": []
    },
    {
      "cell_type": "code",
      "metadata": {
        "id": "y7sfieLGg_Gu"
      },
      "source": [
        ""
      ],
      "execution_count": null,
      "outputs": []
    },
    {
      "cell_type": "code",
      "metadata": {
        "id": "HoOX0w_uhSHb"
      },
      "source": [
        "pattern1 = [{'LOWER':'solarpower'}]\n",
        "pattern2 = [{'LOWER':'solar'},{'IS_PUNCT':True,'OP':'*'},{'LOWER':'power'}]"
      ],
      "execution_count": null,
      "outputs": []
    },
    {
      "cell_type": "code",
      "metadata": {
        "id": "UqQEMR9_hsn0"
      },
      "source": [
        "matcher.add('SolarPower',None,pattern1,pattern2) "
      ],
      "execution_count": null,
      "outputs": []
    },
    {
      "cell_type": "code",
      "metadata": {
        "id": "doyj4JYHh9Dh"
      },
      "source": [
        "doc2 = nlp(u\"Solar--power is solarpower yay!\")"
      ],
      "execution_count": null,
      "outputs": []
    },
    {
      "cell_type": "code",
      "metadata": {
        "id": "kBeim0IMiDY5"
      },
      "source": [
        "found_matches = matcher(doc2)"
      ],
      "execution_count": null,
      "outputs": []
    },
    {
      "cell_type": "code",
      "metadata": {
        "colab": {
          "base_uri": "https://localhost:8080/"
        },
        "id": "8RYVXUIkiHuf",
        "outputId": "4c88e6ee-6a89-4dbf-9701-dd25a9e978d5"
      },
      "source": [
        "print(found_matches)"
      ],
      "execution_count": null,
      "outputs": [
        {
          "output_type": "stream",
          "text": [
            "[(8656102463236116519, 0, 3), (8656102463236116519, 4, 5)]\n"
          ],
          "name": "stdout"
        }
      ]
    },
    {
      "cell_type": "code",
      "metadata": {
        "id": "DmNLC2t0iJx9"
      },
      "source": [
        "from spacy.matcher import PhraseMatcher"
      ],
      "execution_count": 18,
      "outputs": []
    },
    {
      "cell_type": "code",
      "metadata": {
        "id": "iA7AmWzMlAEs"
      },
      "source": [
        "matcher = PhraseMatcher(nlp.vocab)"
      ],
      "execution_count": 19,
      "outputs": []
    },
    {
      "cell_type": "code",
      "metadata": {
        "id": "UonCjVDgyDQw"
      },
      "source": [
        "with open('reaganomics.txt',encoding='utf-8',errors='ignore') as f:\n",
        "  doc3 = nlp(f.read())"
      ],
      "execution_count": 21,
      "outputs": []
    },
    {
      "cell_type": "code",
      "metadata": {
        "id": "acBFER1HyMdZ"
      },
      "source": [
        "phrase_list = ['voodoo economics','supply-side economics','trickle-down economics', 'free-markets economics']"
      ],
      "execution_count": 22,
      "outputs": []
    },
    {
      "cell_type": "code",
      "metadata": {
        "id": "R3fKUnwNyyrg"
      },
      "source": [
        "phrase_pattern = [nlp(text) for text in phrase_list]"
      ],
      "execution_count": 23,
      "outputs": []
    },
    {
      "cell_type": "code",
      "metadata": {
        "colab": {
          "base_uri": "https://localhost:8080/"
        },
        "id": "sTBnFj--y4lf",
        "outputId": "1e71a3cb-3337-4445-fbe3-5eb592464b15"
      },
      "source": [
        "phrase_pattern"
      ],
      "execution_count": 24,
      "outputs": [
        {
          "output_type": "execute_result",
          "data": {
            "text/plain": [
              "[voodoo economics,\n",
              " supply-side economics,\n",
              " trickle-down economics,\n",
              " free-markets economics]"
            ]
          },
          "metadata": {
            "tags": []
          },
          "execution_count": 24
        }
      ]
    },
    {
      "cell_type": "code",
      "metadata": {
        "colab": {
          "base_uri": "https://localhost:8080/"
        },
        "id": "ProBXFdjzE00",
        "outputId": "3578a14e-4c77-467a-993f-e2e3493bdba2"
      },
      "source": [
        "type(phrase_pattern[0])"
      ],
      "execution_count": 25,
      "outputs": [
        {
          "output_type": "execute_result",
          "data": {
            "text/plain": [
              "spacy.tokens.doc.Doc"
            ]
          },
          "metadata": {
            "tags": []
          },
          "execution_count": 25
        }
      ]
    },
    {
      "cell_type": "code",
      "metadata": {
        "id": "4MAovPcHy6Ga"
      },
      "source": [
        "matcher.add('EconMatcher',None,*phrase_pattern)"
      ],
      "execution_count": 26,
      "outputs": []
    },
    {
      "cell_type": "code",
      "metadata": {
        "id": "urlvKfg-zMlV"
      },
      "source": [
        "matches = matcher(doc3)"
      ],
      "execution_count": 27,
      "outputs": []
    },
    {
      "cell_type": "code",
      "metadata": {
        "colab": {
          "base_uri": "https://localhost:8080/"
        },
        "id": "nnEjL4CpzWO7",
        "outputId": "42dc803e-b6ad-48ad-a15c-5d2db8f54d1c"
      },
      "source": [
        "  matches"
      ],
      "execution_count": 28,
      "outputs": [
        {
          "output_type": "execute_result",
          "data": {
            "text/plain": [
              "[(3680293220734633682, 41, 45),\n",
              " (3680293220734633682, 49, 53),\n",
              " (3680293220734633682, 54, 56),\n",
              " (3680293220734633682, 673, 677),\n",
              " (3680293220734633682, 2986, 2990)]"
            ]
          },
          "metadata": {
            "tags": []
          },
          "execution_count": 28
        }
      ]
    },
    {
      "cell_type": "code",
      "metadata": {
        "colab": {
          "base_uri": "https://localhost:8080/"
        },
        "id": "UbqdgjBNzYiU",
        "outputId": "04b82257-4f42-4d2c-8a25-9c4f28e5bf1a"
      },
      "source": [
        "for match_id, start, end in matches:\n",
        "  string_id = nlp.vocab.strings[match_id]\n",
        "  span = doc3[start:end]\n",
        "  print(match_id,string_id,start,end,span.text)"
      ],
      "execution_count": 31,
      "outputs": [
        {
          "output_type": "stream",
          "text": [
            "3680293220734633682 EconMatcher 41 45 supply-side economics\n",
            "3680293220734633682 EconMatcher 49 53 trickle-down economics\n",
            "3680293220734633682 EconMatcher 54 56 voodoo economics\n",
            "3680293220734633682 EconMatcher 673 677 supply-side economics\n",
            "3680293220734633682 EconMatcher 2986 2990 trickle-down economics\n"
          ],
          "name": "stdout"
        }
      ]
    },
    {
      "cell_type": "code",
      "metadata": {
        "colab": {
          "base_uri": "https://localhost:8080/"
        },
        "id": "12XCTEU83hpC",
        "outputId": "5446bd51-8ba7-45f2-830f-9f602d59bb89"
      },
      "source": [
        "for match_id, start, end in matches:\n",
        "  string_id = nlp.vocab.strings[match_id]\n",
        "  span = doc3[start:end]\n",
        "  print(match_id,string_id,start,end,span.text)"
      ],
      "execution_count": 34,
      "outputs": [
        {
          "output_type": "stream",
          "text": [
            "3680293220734633682 EconMatcher 41 45 supply-side economics\n",
            "3680293220734633682 EconMatcher 49 53 trickle-down economics\n",
            "3680293220734633682 EconMatcher 54 56 voodoo economics\n",
            "3680293220734633682 EconMatcher 673 677 supply-side economics\n",
            "3680293220734633682 EconMatcher 2986 2990 trickle-down economics\n"
          ],
          "name": "stdout"
        }
      ]
    },
    {
      "cell_type": "markdown",
      "metadata": {
        "id": "LayJemiH5A2S"
      },
      "source": [
        "# **Assignment"
      ]
    },
    {
      "cell_type": "code",
      "metadata": {
        "id": "1F8nkMrq32eY"
      },
      "source": [
        "import spacy\n",
        "nlp = spacy.load('en_core_web_sm')"
      ],
      "execution_count": 42,
      "outputs": []
    },
    {
      "cell_type": "code",
      "metadata": {
        "id": "EoxDgv4m4GeR"
      },
      "source": [
        "with open('owlcreek.txt',encoding='utf-8',errors='ignore') as f:\n",
        "  doc4 = nlp(f.read())"
      ],
      "execution_count": 43,
      "outputs": []
    },
    {
      "cell_type": "code",
      "metadata": {
        "colab": {
          "base_uri": "https://localhost:8080/"
        },
        "id": "40zFUyiR4YgL",
        "outputId": "a75e46d5-698e-49c4-b934-aefdf61dbeae"
      },
      "source": [
        "doc4[:36]"
      ],
      "execution_count": 44,
      "outputs": [
        {
          "output_type": "execute_result",
          "data": {
            "text/plain": [
              "AN OCCURRENCE AT OWL CREEK BRIDGE\n",
              "\n",
              "by Ambrose Bierce\n",
              "\n",
              "I\n",
              "\n",
              "A man stood upon a railroad bridge in northern Alabama, looking down\n",
              "into the swift water twenty feet below.  "
            ]
          },
          "metadata": {
            "tags": []
          },
          "execution_count": 44
        }
      ]
    },
    {
      "cell_type": "code",
      "metadata": {
        "colab": {
          "base_uri": "https://localhost:8080/"
        },
        "id": "4bIpZiZ64f0t",
        "outputId": "bf8aec3e-01f8-4073-a2cd-ec10dd5ad2da"
      },
      "source": [
        "len(doc4)"
      ],
      "execution_count": 45,
      "outputs": [
        {
          "output_type": "execute_result",
          "data": {
            "text/plain": [
              "4835"
            ]
          },
          "metadata": {
            "tags": []
          },
          "execution_count": 45
        }
      ]
    },
    {
      "cell_type": "code",
      "metadata": {
        "id": "PpuQbpfG4jWB"
      },
      "source": [
        "doc_sentences = [sent for sent in doc4.sents]"
      ],
      "execution_count": 46,
      "outputs": []
    },
    {
      "cell_type": "code",
      "metadata": {
        "colab": {
          "base_uri": "https://localhost:8080/"
        },
        "id": "h__8zb9C4rB2",
        "outputId": "16eccdfc-cc85-4d86-9846-c4efb6eacc9b"
      },
      "source": [
        "len(doc_sentences)"
      ],
      "execution_count": 47,
      "outputs": [
        {
          "output_type": "execute_result",
          "data": {
            "text/plain": [
              "249"
            ]
          },
          "metadata": {
            "tags": []
          },
          "execution_count": 47
        }
      ]
    },
    {
      "cell_type": "code",
      "metadata": {
        "colab": {
          "base_uri": "https://localhost:8080/"
        },
        "id": "deu5p3GL4tW9",
        "outputId": "8b9ef361-2be3-4403-aced-c4ed0e938e75"
      },
      "source": [
        "print(doc_sentences[2].text)"
      ],
      "execution_count": 49,
      "outputs": [
        {
          "output_type": "stream",
          "text": [
            "A man stood upon a railroad bridge in northern Alabama, looking down\n",
            "into the swift water twenty feet below.  \n"
          ],
          "name": "stdout"
        }
      ]
    },
    {
      "cell_type": "code",
      "metadata": {
        "colab": {
          "base_uri": "https://localhost:8080/"
        },
        "id": "gOTgjN3x41Zj",
        "outputId": "30774714-2a89-4bc9-9a1c-107c5d85063f"
      },
      "source": [
        "for token in doc_sentences[2]:\n",
        "  print(f\"{token.text:{15}} {token.pos_:{5}} {token.dep_:{10}} {token.lemma:{5}}\")"
      ],
      "execution_count": 54,
      "outputs": [
        {
          "output_type": "stream",
          "text": [
            "A               DET   det        11901859001352538922\n",
            "man             NOUN  nsubj      3104811030673030468\n",
            "stood           VERB  ROOT       16121235759125543490\n",
            "upon            SCONJ prep       12776617025319584140\n",
            "a               DET   det        11901859001352538922\n",
            "railroad        NOUN  compound   11929338562591612190\n",
            "bridge          NOUN  pobj       10505406131357236919\n",
            "in              ADP   prep       3002984154512732771\n",
            "northern        ADJ   amod       14402328224860809449\n",
            "Alabama         PROPN pobj       1974316624015891830\n",
            ",               PUNCT punct      2593208677638477497\n",
            "looking         VERB  advcl      16096726548953279178\n",
            "down            ADV   prt        6421409113692203669\n",
            "\n",
            "               SPACE            962983613142996970\n",
            "into            ADP   prep       3278561384161438710\n",
            "the             DET   det        7425985699627899538\n",
            "swift           ADJ   amod       9502497712543975804\n",
            "water           NOUN  pobj       7248544922998488549\n",
            "twenty          NUM   nummod     8304598090389628520\n",
            "feet            NOUN  npadvmod   779410287755165804\n",
            "below           ADV   advmod     13516515296229086732\n",
            ".               PUNCT punct      12646065887601541794\n",
            "                SPACE            8532415787641010193\n"
          ],
          "name": "stdout"
        }
      ]
    },
    {
      "cell_type": "code",
      "metadata": {
        "id": "_HPJVsD95mO0"
      },
      "source": [
        "from spacy.matcher import Matcher\n",
        "matcher = Matcher(nlp.vocab)"
      ],
      "execution_count": 56,
      "outputs": []
    },
    {
      "cell_type": "code",
      "metadata": {
        "id": "mhI49J3S59j7"
      },
      "source": [
        "#create a pattern and add it to matcher"
      ],
      "execution_count": 57,
      "outputs": []
    },
    {
      "cell_type": "code",
      "metadata": {
        "id": "etWf7QKf6Dvh"
      },
      "source": [
        "pattern = [{'LOWER':'swimming'},{'IS_SPACE':True,'OP':'*'},{'LOWER':'vigorously'}]"
      ],
      "execution_count": 58,
      "outputs": []
    },
    {
      "cell_type": "code",
      "metadata": {
        "id": "xP-J88d16Wxc"
      },
      "source": [
        "matcher.add('Swimming',None,pattern)"
      ],
      "execution_count": 59,
      "outputs": []
    },
    {
      "cell_type": "code",
      "metadata": {
        "id": "G3FdEVMw6ceN"
      },
      "source": [
        "found_matches = matcher(doc4)"
      ],
      "execution_count": 60,
      "outputs": []
    },
    {
      "cell_type": "code",
      "metadata": {
        "colab": {
          "base_uri": "https://localhost:8080/"
        },
        "id": "hXmstHC86fqZ",
        "outputId": "b46b8e24-8f31-4d67-d0d9-a10655e619f2"
      },
      "source": [
        "print(found_matches)"
      ],
      "execution_count": 61,
      "outputs": [
        {
          "output_type": "stream",
          "text": [
            "[(12881893835109366681, 1274, 1277), (12881893835109366681, 3609, 3612)]\n"
          ],
          "name": "stdout"
        }
      ]
    },
    {
      "cell_type": "code",
      "metadata": {
        "id": "XYQCMzl16iFo"
      },
      "source": [
        "def surrounding(doc4,start,end):\n",
        "  print(doc4[start-5:end+5])"
      ],
      "execution_count": 62,
      "outputs": []
    },
    {
      "cell_type": "code",
      "metadata": {
        "colab": {
          "base_uri": "https://localhost:8080/"
        },
        "id": "SmN_0eEh6r27",
        "outputId": "bdabdafe-69a6-4381-9da3-fbad65ce10f4"
      },
      "source": [
        "surrounding(doc4,1274,1277)"
      ],
      "execution_count": 63,
      "outputs": [
        {
          "output_type": "stream",
          "text": [
            "evade the bullets and, swimming\n",
            "vigorously, reach the bank,\n"
          ],
          "name": "stdout"
        }
      ]
    },
    {
      "cell_type": "code",
      "metadata": {
        "colab": {
          "base_uri": "https://localhost:8080/"
        },
        "id": "-dLpr4Yt6vjH",
        "outputId": "901f297a-1209-4efe-f593-8028578f8939"
      },
      "source": [
        "surrounding(doc4,3609,3612)"
      ],
      "execution_count": 64,
      "outputs": [
        {
          "output_type": "stream",
          "text": [
            "shoulder; he was now swimming\n",
            "vigorously with the current.  \n"
          ],
          "name": "stdout"
        }
      ]
    },
    {
      "cell_type": "code",
      "metadata": {
        "colab": {
          "base_uri": "https://localhost:8080/"
        },
        "id": "nXQdZqMv6zvt",
        "outputId": "98d3d5f0-96fe-44d3-ec22-19a064897f7d"
      },
      "source": [
        "  for sentence in doc_sentences:\n",
        "    if found_matches[0][1]< sentence.end:\n",
        "      print(sentence)\n",
        "      break"
      ],
      "execution_count": 65,
      "outputs": [
        {
          "output_type": "stream",
          "text": [
            "By diving I could evade the bullets and, swimming\n",
            "vigorously, reach the bank, take to the woods and get away home.  \n"
          ],
          "name": "stdout"
        }
      ]
    },
    {
      "cell_type": "code",
      "metadata": {
        "colab": {
          "base_uri": "https://localhost:8080/"
        },
        "id": "N2vHrVdG7FTb",
        "outputId": "91a3919b-c0fe-48cb-8380-454833590fc2"
      },
      "source": [
        "  for sentence in doc_sentences:\n",
        "    if found_matches[1][1]< sentence.end:\n",
        "      print(sentence)\n",
        "      break"
      ],
      "execution_count": 66,
      "outputs": [
        {
          "output_type": "stream",
          "text": [
            "The hunted man saw all this over his shoulder; he was now swimming\n",
            "vigorously with the current.  \n"
          ],
          "name": "stdout"
        }
      ]
    },
    {
      "cell_type": "code",
      "metadata": {
        "id": "Mi4lGXZd7IiU"
      },
      "source": [
        ""
      ],
      "execution_count": null,
      "outputs": []
    }
  ]
}