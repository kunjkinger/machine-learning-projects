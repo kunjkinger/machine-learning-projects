{
  "nbformat": 4,
  "nbformat_minor": 0,
  "metadata": {
    "colab": {
      "name": "stemming.ipynb",
      "provenance": [],
      "collapsed_sections": [],
      "authorship_tag": "ABX9TyOmMZKyeLOt5SO+mvgne4u3",
      "include_colab_link": true
    },
    "kernelspec": {
      "name": "python3",
      "display_name": "Python 3"
    },
    "language_info": {
      "name": "python"
    }
  },
  "cells": [
    {
      "cell_type": "markdown",
      "metadata": {
        "id": "view-in-github",
        "colab_type": "text"
      },
      "source": [
        "<a href=\"https://colab.research.google.com/github/kunjkinger/machine-learning-projects/blob/main/stemming.ipynb\" target=\"_parent\"><img src=\"https://colab.research.google.com/assets/colab-badge.svg\" alt=\"Open In Colab\"/></a>"
      ]
    },
    {
      "cell_type": "code",
      "metadata": {
        "id": "RBCPon_xtZ7Q"
      },
      "source": [
        "#stemming\n",
        "#used to reduce words but the better way is lemmitization."
      ],
      "execution_count": 1,
      "outputs": []
    },
    {
      "cell_type": "code",
      "metadata": {
        "id": "w9-l8Abvtfi4"
      },
      "source": [
        "#stem like [boat,boater,boating,boats]"
      ],
      "execution_count": 2,
      "outputs": []
    },
    {
      "cell_type": "code",
      "metadata": {
        "id": "RKbyk9JftlCd"
      },
      "source": [
        "# most common and effective stemming tool is Porter's algo"
      ],
      "execution_count": 3,
      "outputs": []
    },
    {
      "cell_type": "code",
      "metadata": {
        "id": "sUy0PZNut4_e"
      },
      "source": [
        "import nltk"
      ],
      "execution_count": 4,
      "outputs": []
    },
    {
      "cell_type": "code",
      "metadata": {
        "id": "0mD_pRWsuP1L"
      },
      "source": [
        "from nltk.stem import PorterStemmer"
      ],
      "execution_count": 5,
      "outputs": []
    },
    {
      "cell_type": "code",
      "metadata": {
        "id": "dvJruGznuS6G"
      },
      "source": [
        "p_stemmer = PorterStemmer()"
      ],
      "execution_count": 6,
      "outputs": []
    },
    {
      "cell_type": "code",
      "metadata": {
        "id": "X4BO_SFNuVj0"
      },
      "source": [
        "words = ['run','runner','ran','runs','easily','fairly','fairness']"
      ],
      "execution_count": 15,
      "outputs": []
    },
    {
      "cell_type": "code",
      "metadata": {
        "colab": {
          "base_uri": "https://localhost:8080/"
        },
        "id": "vmPXpF-LuZqt",
        "outputId": "ad2c56ac-82b0-4d98-e07d-d22193b803f9"
      },
      "source": [
        "for word in words:\n",
        "  print(word + '-------->' + p_stemmer.stem(word))"
      ],
      "execution_count": 16,
      "outputs": [
        {
          "output_type": "stream",
          "text": [
            "run-------->run\n",
            "runner-------->runner\n",
            "ran-------->ran\n",
            "runs-------->run\n",
            "easily-------->easili\n",
            "fairly-------->fairli\n",
            "fairness-------->fair\n"
          ],
          "name": "stdout"
        }
      ]
    },
    {
      "cell_type": "code",
      "metadata": {
        "id": "wa5zJfjYupXY"
      },
      "source": [
        "# better stemmer is snowball stemmer"
      ],
      "execution_count": 17,
      "outputs": []
    },
    {
      "cell_type": "code",
      "metadata": {
        "id": "s9yn7moxu5DE"
      },
      "source": [
        "from nltk.stem.snowball import SnowballStemmer"
      ],
      "execution_count": 18,
      "outputs": []
    },
    {
      "cell_type": "code",
      "metadata": {
        "id": "Y6YQ80T9u9mO"
      },
      "source": [
        "s_stemmer  = SnowballStemmer(language='english')"
      ],
      "execution_count": 19,
      "outputs": []
    },
    {
      "cell_type": "code",
      "metadata": {
        "colab": {
          "base_uri": "https://localhost:8080/"
        },
        "id": "Wm3g2EZzu_j9",
        "outputId": "a16650b1-87ad-4300-d078-ecdf14dfad94"
      },
      "source": [
        "for word in words:\n",
        "  print(word + '------->' + s_stemmer.stem(word))"
      ],
      "execution_count": 20,
      "outputs": [
        {
          "output_type": "stream",
          "text": [
            "run------->run\n",
            "runner------->runner\n",
            "ran------->ran\n",
            "runs------->run\n",
            "easily------->easili\n",
            "fairly------->fair\n",
            "fairness------->fair\n"
          ],
          "name": "stdout"
        }
      ]
    },
    {
      "cell_type": "code",
      "metadata": {
        "id": "xBAp8-_yvLCh"
      },
      "source": [
        "gener = ['generous','generation','generously','generate']"
      ],
      "execution_count": 21,
      "outputs": []
    },
    {
      "cell_type": "code",
      "metadata": {
        "colab": {
          "base_uri": "https://localhost:8080/"
        },
        "id": "uh2FWR1hvlZk",
        "outputId": "a79e86aa-687c-4d58-9d3a-dc9aebc203d5"
      },
      "source": [
        "for g in gener:\n",
        "  print(g + '   ------->' + s_stemmer.stem(g))"
      ],
      "execution_count": 22,
      "outputs": [
        {
          "output_type": "stream",
          "text": [
            "generous   ------->generous\n",
            "generation   ------->generat\n",
            "generously   ------->generous\n",
            "generate   ------->generat\n"
          ],
          "name": "stdout"
        }
      ]
    },
    {
      "cell_type": "code",
      "metadata": {
        "id": "Cuj03j4mvvP1"
      },
      "source": [
        ""
      ],
      "execution_count": null,
      "outputs": []
    }
  ]
}