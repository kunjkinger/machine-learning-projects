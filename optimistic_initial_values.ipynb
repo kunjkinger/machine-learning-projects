{
  "nbformat": 4,
  "nbformat_minor": 0,
  "metadata": {
    "colab": {
      "name": "optimistic_initial_values.ipynb",
      "provenance": [],
      "collapsed_sections": [],
      "authorship_tag": "ABX9TyMQ21OuQWgIJefjgNTide6Q",
      "include_colab_link": true
    },
    "kernelspec": {
      "name": "python3",
      "display_name": "Python 3"
    },
    "language_info": {
      "name": "python"
    }
  },
  "cells": [
    {
      "cell_type": "markdown",
      "metadata": {
        "id": "view-in-github",
        "colab_type": "text"
      },
      "source": [
        "<a href=\"https://colab.research.google.com/github/kunjkinger/machine-learning-projects/blob/reinforcement_learning/optimistic_initial_values.ipynb\" target=\"_parent\"><img src=\"https://colab.research.google.com/assets/colab-badge.svg\" alt=\"Open In Colab\"/></a>"
      ]
    },
    {
      "cell_type": "code",
      "metadata": {
        "id": "DdC2DYrw4wjH"
      },
      "source": [
        "from __future__ import print_function,division\n",
        "from builtins import range"
      ],
      "execution_count": 12,
      "outputs": []
    },
    {
      "cell_type": "code",
      "metadata": {
        "id": "ifS2zzCS41Y0"
      },
      "source": [
        "import matplotlib.pyplot as plt\n",
        "import numpy as np"
      ],
      "execution_count": 13,
      "outputs": []
    },
    {
      "cell_type": "code",
      "metadata": {
        "id": "JkqwVh_S48Qm"
      },
      "source": [
        "Num_trials = 10000\n",
        "Eps = 0.1\n",
        "Bandit_probabilities = [0.2,0.5,0.75]"
      ],
      "execution_count": 14,
      "outputs": []
    },
    {
      "cell_type": "code",
      "metadata": {
        "colab": {
          "base_uri": "https://localhost:8080/",
          "height": 981
        },
        "id": "T18MqWqF5ED5",
        "outputId": "06970821-bb11-41d6-e7f5-fab3be628e4a"
      },
      "source": [
        "class Bandit:\n",
        "  def __init__(self,p):\n",
        "    #p is the win probability\n",
        "    self.p = p\n",
        "    self.p_estimate = 5\n",
        "    self.N = 1\n",
        "\n",
        "  def pull(self):\n",
        "    return np.random.random() < self.p\n",
        "  \n",
        "  def update(self,x):\n",
        "    self.N += 1 \n",
        "    self.p_estimate = ((self.N-1)*self.p_estimate + x) /self.N\n",
        "\n",
        "def experiment():\n",
        "  bandits = [Bandit(p) for p in Bandit_probabilities]\n",
        "\n",
        "  rewards = np.zeros(Num_trials)\n",
        "  for i in range(Num_trials):\n",
        "    #use optimistic values to select the next bandit\n",
        "    j = np.argmax([b.p_estimate for b in bandits])\n",
        "\n",
        "    x = bandits[j].pull()\n",
        "\n",
        "    #update rewards log\n",
        "    rewards[i] = x\n",
        "\n",
        "    bandits[j].update(x)\n",
        "\n",
        "  for b in bandits:\n",
        "    print('mean estimate: ', b.p_estimate)\n",
        "\n",
        "    #total print reward\n",
        "    print('total reward earned:',rewards.sum())\n",
        "    print(\"overall win rate:\", rewards.sum()/ Num_trials)\n",
        "    print('num times selected each bandit:', [b.N for b in bandits])\n",
        "\n",
        "    cumulative_rewards = np.cumsum(rewards)\n",
        "    win_rates = cumulative_rewards/(np.arange(Num_trials) +1)\n",
        "    plt.ylim([0,1])\n",
        "    plt.plot(win_rates)\n",
        "    plt.plot(np.ones(Num_trials)*np.max(Bandit_probabilities))\n",
        "    plt.show()\n",
        "\n",
        "if __name__ == '__main__':\n",
        "  experiment()"
      ],
      "execution_count": 19,
      "outputs": [
        {
          "output_type": "stream",
          "text": [
            "mean estimate:  0.7142857142857143\n",
            "total reward earned: 7407.0\n",
            "overall win rate: 0.7407\n",
            "num times selected each bandit: [7, 25, 9971]\n"
          ],
          "name": "stdout"
        },
        {
          "output_type": "display_data",
          "data": {
            "image/png": "[encoded data removed]",
            "text/plain": [
              "<Figure size 432x288 with 1 Axes>"
            ]
          },
          "metadata": {
            "tags": [],
            "needs_background": "light"
          }
        },
        {
          "output_type": "stream",
          "text": [
            "mean estimate:  0.72\n",
            "total reward earned: 7407.0\n",
            "overall win rate: 0.7407\n",
            "num times selected each bandit: [7, 25, 9971]\n"
          ],
          "name": "stdout"
        },
        {
          "output_type": "display_data",
          "data": {
            "image/png": "[encoded data removed]",
            "text/plain": [
              "<Figure size 432x288 with 1 Axes>"
            ]
          },
          "metadata": {
            "tags": [],
            "needs_background": "light"
          }
        },
        {
          "output_type": "stream",
          "text": [
            "mean estimate:  0.7420519506569059\n",
            "total reward earned: 7407.0\n",
            "overall win rate: 0.7407\n",
            "num times selected each bandit: [7, 25, 9971]\n"
          ],
          "name": "stdout"
        },
        {
          "output_type": "display_data",
          "data": {
            "image/png": "[encoded data removed]",
            "text/plain": [
              "<Figure size 432x288 with 1 Axes>"
            ]
          },
          "metadata": {
            "tags": [],
            "needs_background": "light"
          }
        }
      ]
    },
    {
      "cell_type": "code",
      "metadata": {
        "colab": {
          "base_uri": "https://localhost:8080/"
        },
        "id": "rrhC-yjf5XbO",
        "outputId": "d1ab99fe-eb39-4ca2-c632-0984a8279dea"
      },
      "source": [
        ""
      ],
      "execution_count": 21,
      "outputs": [
        {
          "output_type": "execute_result",
          "data": {
            "text/plain": [
              "[<__main__.Bandit at 0x7fa084b22050>,\n",
              " <__main__.Bandit at 0x7fa084b22690>,\n",
              " <__main__.Bandit at 0x7fa084b22d50>]"
            ]
          },
          "metadata": {
            "tags": []
          },
          "execution_count": 21
        }
      ]
    },
    {
      "cell_type": "code",
      "metadata": {
        "id": "gSQa7dXNZ5yc"
      },
      "source": [
        ""
      ],
      "execution_count": null,
      "outputs": []
    }
  ]
}