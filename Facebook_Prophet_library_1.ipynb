{
  "nbformat": 4,
  "nbformat_minor": 0,
  "metadata": {
    "colab": {
      "name": "Facebook_Prophet_library_1.ipynb",
      "provenance": [],
      "collapsed_sections": [],
      "authorship_tag": "ABX9TyMJ6mpgBWUvZUA6o2dNrUaO",
      "include_colab_link": true
    },
    "kernelspec": {
      "name": "python3",
      "display_name": "Python 3"
    },
    "language_info": {
      "name": "python"
    }
  },
  "cells": [
    {
      "cell_type": "markdown",
      "metadata": {
        "id": "view-in-github",
        "colab_type": "text"
      },
      "source": [
        "<a href=\"https://colab.research.google.com/github/kunjkinger/machine-learning-projects/blob/time_series_analysis/Facebook_Prophet_library_1.ipynb\" target=\"_parent\"><img src=\"https://colab.research.google.com/assets/colab-badge.svg\" alt=\"Open In Colab\"/></a>"
      ]
    },
    {
      "cell_type": "code",
      "metadata": {
        "id": "kh97xpFWIjF1"
      },
      "source": [
        "import pandas as pd\n",
        "from fbprophet import Prophet"
      ],
      "execution_count": 4,
      "outputs": []
    },
    {
      "cell_type": "code",
      "metadata": {
        "id": "XjmZH7cEIpID"
      },
      "source": [
        "df = pd.read_csv('BeerWineLiquor.csv')"
      ],
      "execution_count": 5,
      "outputs": []
    },
    {
      "cell_type": "code",
      "metadata": {
        "colab": {
          "base_uri": "https://localhost:8080/",
          "height": 206
        },
        "id": "qibZ5bORIsgu",
        "outputId": "b563241f-1d44-4332-9c54-4fab61be9973"
      },
      "source": [
        "df.head()"
      ],
      "execution_count": 6,
      "outputs": [
        {
          "output_type": "execute_result",
          "data": {
            "text/html": [
              "<div>\n",
              "<style scoped>\n",
              "    .dataframe tbody tr th:only-of-type {\n",
              "        vertical-align: middle;\n",
              "    }\n",
              "\n",
              "    .dataframe tbody tr th {\n",
              "        vertical-align: top;\n",
              "    }\n",
              "\n",
              "    .dataframe thead th {\n",
              "        text-align: right;\n",
              "    }\n",
              "</style>\n",
              "<table border=\"1\" class=\"dataframe\">\n",
              "  <thead>\n",
              "    <tr style=\"text-align: right;\">\n",
              "      <th></th>\n",
              "      <th>date</th>\n",
              "      <th>beer</th>\n",
              "    </tr>\n",
              "  </thead>\n",
              "  <tbody>\n",
              "    <tr>\n",
              "      <th>0</th>\n",
              "      <td>1/1/1992</td>\n",
              "      <td>1509</td>\n",
              "    </tr>\n",
              "    <tr>\n",
              "      <th>1</th>\n",
              "      <td>2/1/1992</td>\n",
              "      <td>1541</td>\n",
              "    </tr>\n",
              "    <tr>\n",
              "      <th>2</th>\n",
              "      <td>3/1/1992</td>\n",
              "      <td>1597</td>\n",
              "    </tr>\n",
              "    <tr>\n",
              "      <th>3</th>\n",
              "      <td>4/1/1992</td>\n",
              "      <td>1675</td>\n",
              "    </tr>\n",
              "    <tr>\n",
              "      <th>4</th>\n",
              "      <td>5/1/1992</td>\n",
              "      <td>1822</td>\n",
              "    </tr>\n",
              "  </tbody>\n",
              "</table>\n",
              "</div>"
            ],
            "text/plain": [
              "       date  beer\n",
              "0  1/1/1992  1509\n",
              "1  2/1/1992  1541\n",
              "2  3/1/1992  1597\n",
              "3  4/1/1992  1675\n",
              "4  5/1/1992  1822"
            ]
          },
          "metadata": {
            "tags": []
          },
          "execution_count": 6
        }
      ]
    },
    {
      "cell_type": "code",
      "metadata": {
        "colab": {
          "base_uri": "https://localhost:8080/"
        },
        "id": "gcieLGpUJAgS",
        "outputId": "42ba44b1-6261-4dd0-e5a8-f786de212e1c"
      },
      "source": [
        "df.info()"
      ],
      "execution_count": 7,
      "outputs": [
        {
          "output_type": "stream",
          "text": [
            "<class 'pandas.core.frame.DataFrame'>\n",
            "RangeIndex: 324 entries, 0 to 323\n",
            "Data columns (total 2 columns):\n",
            " #   Column  Non-Null Count  Dtype \n",
            "---  ------  --------------  ----- \n",
            " 0   date    324 non-null    object\n",
            " 1   beer    324 non-null    int64 \n",
            "dtypes: int64(1), object(1)\n",
            "memory usage: 5.2+ KB\n"
          ],
          "name": "stdout"
        }
      ]
    },
    {
      "cell_type": "code",
      "metadata": {
        "id": "Z5jzlfLvJGKo"
      },
      "source": [
        "df.columns = ['ds','y'] # it is mandatory names for facebook prophet library"
      ],
      "execution_count": 8,
      "outputs": []
    },
    {
      "cell_type": "code",
      "metadata": {
        "colab": {
          "base_uri": "https://localhost:8080/",
          "height": 206
        },
        "id": "c8qx_ER1JOOb",
        "outputId": "e682f3c3-c32e-4eaf-b699-0042880894a5"
      },
      "source": [
        "df.head()"
      ],
      "execution_count": 9,
      "outputs": [
        {
          "output_type": "execute_result",
          "data": {
            "text/html": [
              "<div>\n",
              "<style scoped>\n",
              "    .dataframe tbody tr th:only-of-type {\n",
              "        vertical-align: middle;\n",
              "    }\n",
              "\n",
              "    .dataframe tbody tr th {\n",
              "        vertical-align: top;\n",
              "    }\n",
              "\n",
              "    .dataframe thead th {\n",
              "        text-align: right;\n",
              "    }\n",
              "</style>\n",
              "<table border=\"1\" class=\"dataframe\">\n",
              "  <thead>\n",
              "    <tr style=\"text-align: right;\">\n",
              "      <th></th>\n",
              "      <th>ds</th>\n",
              "      <th>y</th>\n",
              "    </tr>\n",
              "  </thead>\n",
              "  <tbody>\n",
              "    <tr>\n",
              "      <th>0</th>\n",
              "      <td>1/1/1992</td>\n",
              "      <td>1509</td>\n",
              "    </tr>\n",
              "    <tr>\n",
              "      <th>1</th>\n",
              "      <td>2/1/1992</td>\n",
              "      <td>1541</td>\n",
              "    </tr>\n",
              "    <tr>\n",
              "      <th>2</th>\n",
              "      <td>3/1/1992</td>\n",
              "      <td>1597</td>\n",
              "    </tr>\n",
              "    <tr>\n",
              "      <th>3</th>\n",
              "      <td>4/1/1992</td>\n",
              "      <td>1675</td>\n",
              "    </tr>\n",
              "    <tr>\n",
              "      <th>4</th>\n",
              "      <td>5/1/1992</td>\n",
              "      <td>1822</td>\n",
              "    </tr>\n",
              "  </tbody>\n",
              "</table>\n",
              "</div>"
            ],
            "text/plain": [
              "         ds     y\n",
              "0  1/1/1992  1509\n",
              "1  2/1/1992  1541\n",
              "2  3/1/1992  1597\n",
              "3  4/1/1992  1675\n",
              "4  5/1/1992  1822"
            ]
          },
          "metadata": {
            "tags": []
          },
          "execution_count": 9
        }
      ]
    },
    {
      "cell_type": "code",
      "metadata": {
        "id": "pC98z6voJPq-"
      },
      "source": [
        "df['ds'] = pd.to_datetime(df['ds'])"
      ],
      "execution_count": 10,
      "outputs": []
    },
    {
      "cell_type": "code",
      "metadata": {
        "colab": {
          "base_uri": "https://localhost:8080/",
          "height": 206
        },
        "id": "nVeVvRxBJWSD",
        "outputId": "eefb399d-58cb-4518-be8c-fbf5bb736124"
      },
      "source": [
        "df.head()"
      ],
      "execution_count": 11,
      "outputs": [
        {
          "output_type": "execute_result",
          "data": {
            "text/html": [
              "<div>\n",
              "<style scoped>\n",
              "    .dataframe tbody tr th:only-of-type {\n",
              "        vertical-align: middle;\n",
              "    }\n",
              "\n",
              "    .dataframe tbody tr th {\n",
              "        vertical-align: top;\n",
              "    }\n",
              "\n",
              "    .dataframe thead th {\n",
              "        text-align: right;\n",
              "    }\n",
              "</style>\n",
              "<table border=\"1\" class=\"dataframe\">\n",
              "  <thead>\n",
              "    <tr style=\"text-align: right;\">\n",
              "      <th></th>\n",
              "      <th>ds</th>\n",
              "      <th>y</th>\n",
              "    </tr>\n",
              "  </thead>\n",
              "  <tbody>\n",
              "    <tr>\n",
              "      <th>0</th>\n",
              "      <td>1992-01-01</td>\n",
              "      <td>1509</td>\n",
              "    </tr>\n",
              "    <tr>\n",
              "      <th>1</th>\n",
              "      <td>1992-02-01</td>\n",
              "      <td>1541</td>\n",
              "    </tr>\n",
              "    <tr>\n",
              "      <th>2</th>\n",
              "      <td>1992-03-01</td>\n",
              "      <td>1597</td>\n",
              "    </tr>\n",
              "    <tr>\n",
              "      <th>3</th>\n",
              "      <td>1992-04-01</td>\n",
              "      <td>1675</td>\n",
              "    </tr>\n",
              "    <tr>\n",
              "      <th>4</th>\n",
              "      <td>1992-05-01</td>\n",
              "      <td>1822</td>\n",
              "    </tr>\n",
              "  </tbody>\n",
              "</table>\n",
              "</div>"
            ],
            "text/plain": [
              "          ds     y\n",
              "0 1992-01-01  1509\n",
              "1 1992-02-01  1541\n",
              "2 1992-03-01  1597\n",
              "3 1992-04-01  1675\n",
              "4 1992-05-01  1822"
            ]
          },
          "metadata": {
            "tags": []
          },
          "execution_count": 11
        }
      ]
    },
    {
      "cell_type": "code",
      "metadata": {
        "colab": {
          "base_uri": "https://localhost:8080/"
        },
        "id": "EjdU_YquJXR1",
        "outputId": "d52c0d78-6d62-403e-da92-d21d88c54a61"
      },
      "source": [
        "df.info()"
      ],
      "execution_count": 13,
      "outputs": [
        {
          "output_type": "stream",
          "text": [
            "<class 'pandas.core.frame.DataFrame'>\n",
            "RangeIndex: 324 entries, 0 to 323\n",
            "Data columns (total 2 columns):\n",
            " #   Column  Non-Null Count  Dtype         \n",
            "---  ------  --------------  -----         \n",
            " 0   ds      324 non-null    datetime64[ns]\n",
            " 1   y       324 non-null    int64         \n",
            "dtypes: datetime64[ns](1), int64(1)\n",
            "memory usage: 5.2 KB\n"
          ],
          "name": "stdout"
        }
      ]
    },
    {
      "cell_type": "code",
      "metadata": {
        "colab": {
          "base_uri": "https://localhost:8080/"
        },
        "id": "7IRLhAPgJhlK",
        "outputId": "7f1ad240-c6b0-4539-d5ea-6cd9832db02e"
      },
      "source": [
        "m = Prophet()\n",
        "\n",
        "m.fit(df)"
      ],
      "execution_count": 14,
      "outputs": [
        {
          "output_type": "stream",
          "text": [
            "INFO:numexpr.utils:NumExpr defaulting to 2 threads.\n",
            "INFO:fbprophet:Disabling weekly seasonality. Run prophet with weekly_seasonality=True to override this.\n",
            "INFO:fbprophet:Disabling daily seasonality. Run prophet with daily_seasonality=True to override this.\n"
          ],
          "name": "stderr"
        },
        {
          "output_type": "execute_result",
          "data": {
            "text/plain": [
              "<fbprophet.forecaster.Prophet at 0x7f83910bff10>"
            ]
          },
          "metadata": {
            "tags": []
          },
          "execution_count": 14
        }
      ]
    },
    {
      "cell_type": "code",
      "metadata": {
        "id": "9TkqVrhlJvq0"
      },
      "source": [
        "#placeholder to hold our predictions"
      ],
      "execution_count": 15,
      "outputs": []
    },
    {
      "cell_type": "code",
      "metadata": {
        "id": "SVh1Z3nyKBv4"
      },
      "source": [
        "future = m.make_future_dataframe(periods=24,freq='MS')"
      ],
      "execution_count": 16,
      "outputs": []
    },
    {
      "cell_type": "code",
      "metadata": {
        "colab": {
          "base_uri": "https://localhost:8080/",
          "height": 206
        },
        "id": "6n-uBN7dKu90",
        "outputId": "e5e040b2-ef20-42da-93e2-d3fae6a11eea"
      },
      "source": [
        "future.tail()"
      ],
      "execution_count": 18,
      "outputs": [
        {
          "output_type": "execute_result",
          "data": {
            "text/html": [
              "<div>\n",
              "<style scoped>\n",
              "    .dataframe tbody tr th:only-of-type {\n",
              "        vertical-align: middle;\n",
              "    }\n",
              "\n",
              "    .dataframe tbody tr th {\n",
              "        vertical-align: top;\n",
              "    }\n",
              "\n",
              "    .dataframe thead th {\n",
              "        text-align: right;\n",
              "    }\n",
              "</style>\n",
              "<table border=\"1\" class=\"dataframe\">\n",
              "  <thead>\n",
              "    <tr style=\"text-align: right;\">\n",
              "      <th></th>\n",
              "      <th>ds</th>\n",
              "    </tr>\n",
              "  </thead>\n",
              "  <tbody>\n",
              "    <tr>\n",
              "      <th>343</th>\n",
              "      <td>2020-08-01</td>\n",
              "    </tr>\n",
              "    <tr>\n",
              "      <th>344</th>\n",
              "      <td>2020-09-01</td>\n",
              "    </tr>\n",
              "    <tr>\n",
              "      <th>345</th>\n",
              "      <td>2020-10-01</td>\n",
              "    </tr>\n",
              "    <tr>\n",
              "      <th>346</th>\n",
              "      <td>2020-11-01</td>\n",
              "    </tr>\n",
              "    <tr>\n",
              "      <th>347</th>\n",
              "      <td>2020-12-01</td>\n",
              "    </tr>\n",
              "  </tbody>\n",
              "</table>\n",
              "</div>"
            ],
            "text/plain": [
              "            ds\n",
              "343 2020-08-01\n",
              "344 2020-09-01\n",
              "345 2020-10-01\n",
              "346 2020-11-01\n",
              "347 2020-12-01"
            ]
          },
          "metadata": {
            "tags": []
          },
          "execution_count": 18
        }
      ]
    },
    {
      "cell_type": "code",
      "metadata": {
        "colab": {
          "base_uri": "https://localhost:8080/",
          "height": 206
        },
        "id": "bbKUAAQ3KwGS",
        "outputId": "78108d15-10fe-41b6-be8b-9a66ff51c75f"
      },
      "source": [
        "df.tail()"
      ],
      "execution_count": 19,
      "outputs": [
        {
          "output_type": "execute_result",
          "data": {
            "text/html": [
              "<div>\n",
              "<style scoped>\n",
              "    .dataframe tbody tr th:only-of-type {\n",
              "        vertical-align: middle;\n",
              "    }\n",
              "\n",
              "    .dataframe tbody tr th {\n",
              "        vertical-align: top;\n",
              "    }\n",
              "\n",
              "    .dataframe thead th {\n",
              "        text-align: right;\n",
              "    }\n",
              "</style>\n",
              "<table border=\"1\" class=\"dataframe\">\n",
              "  <thead>\n",
              "    <tr style=\"text-align: right;\">\n",
              "      <th></th>\n",
              "      <th>ds</th>\n",
              "      <th>y</th>\n",
              "    </tr>\n",
              "  </thead>\n",
              "  <tbody>\n",
              "    <tr>\n",
              "      <th>319</th>\n",
              "      <td>2018-08-01</td>\n",
              "      <td>4898</td>\n",
              "    </tr>\n",
              "    <tr>\n",
              "      <th>320</th>\n",
              "      <td>2018-09-01</td>\n",
              "      <td>4598</td>\n",
              "    </tr>\n",
              "    <tr>\n",
              "      <th>321</th>\n",
              "      <td>2018-10-01</td>\n",
              "      <td>4737</td>\n",
              "    </tr>\n",
              "    <tr>\n",
              "      <th>322</th>\n",
              "      <td>2018-11-01</td>\n",
              "      <td>5130</td>\n",
              "    </tr>\n",
              "    <tr>\n",
              "      <th>323</th>\n",
              "      <td>2018-12-01</td>\n",
              "      <td>6370</td>\n",
              "    </tr>\n",
              "  </tbody>\n",
              "</table>\n",
              "</div>"
            ],
            "text/plain": [
              "            ds     y\n",
              "319 2018-08-01  4898\n",
              "320 2018-09-01  4598\n",
              "321 2018-10-01  4737\n",
              "322 2018-11-01  5130\n",
              "323 2018-12-01  6370"
            ]
          },
          "metadata": {
            "tags": []
          },
          "execution_count": 19
        }
      ]
    },
    {
      "cell_type": "code",
      "metadata": {
        "colab": {
          "base_uri": "https://localhost:8080/"
        },
        "id": "FzYEhaiwK1NA",
        "outputId": "0fa70789-1acc-4a97-d107-18d76aaa9d1e"
      },
      "source": [
        "len(df)"
      ],
      "execution_count": 20,
      "outputs": [
        {
          "output_type": "execute_result",
          "data": {
            "text/plain": [
              "324"
            ]
          },
          "metadata": {
            "tags": []
          },
          "execution_count": 20
        }
      ]
    },
    {
      "cell_type": "code",
      "metadata": {
        "colab": {
          "base_uri": "https://localhost:8080/"
        },
        "id": "lVwFaOySK8_8",
        "outputId": "5a988fb9-cbc4-48fc-e75f-b1461bb02ae4"
      },
      "source": [
        "len(future)"
      ],
      "execution_count": 21,
      "outputs": [
        {
          "output_type": "execute_result",
          "data": {
            "text/plain": [
              "348"
            ]
          },
          "metadata": {
            "tags": []
          },
          "execution_count": 21
        }
      ]
    },
    {
      "cell_type": "code",
      "metadata": {
        "id": "uUrSMo8UK-yk"
      },
      "source": [
        "forecast = m.predict(future)"
      ],
      "execution_count": 22,
      "outputs": []
    },
    {
      "cell_type": "code",
      "metadata": {
        "colab": {
          "base_uri": "https://localhost:8080/",
          "height": 313
        },
        "id": "vB4xIkTkLDaH",
        "outputId": "3c348e0e-3ecf-4fbc-bb49-5f22be2ba193"
      },
      "source": [
        "forecast.head()"
      ],
      "execution_count": 23,
      "outputs": [
        {
          "output_type": "execute_result",
          "data": {
            "text/html": [
              "<div>\n",
              "<style scoped>\n",
              "    .dataframe tbody tr th:only-of-type {\n",
              "        vertical-align: middle;\n",
              "    }\n",
              "\n",
              "    .dataframe tbody tr th {\n",
              "        vertical-align: top;\n",
              "    }\n",
              "\n",
              "    .dataframe thead th {\n",
              "        text-align: right;\n",
              "    }\n",
              "</style>\n",
              "<table border=\"1\" class=\"dataframe\">\n",
              "  <thead>\n",
              "    <tr style=\"text-align: right;\">\n",
              "      <th></th>\n",
              "      <th>ds</th>\n",
              "      <th>trend</th>\n",
              "      <th>yhat_lower</th>\n",
              "      <th>yhat_upper</th>\n",
              "      <th>trend_lower</th>\n",
              "      <th>trend_upper</th>\n",
              "      <th>additive_terms</th>\n",
              "      <th>additive_terms_lower</th>\n",
              "      <th>additive_terms_upper</th>\n",
              "      <th>yearly</th>\n",
              "      <th>yearly_lower</th>\n",
              "      <th>yearly_upper</th>\n",
              "      <th>multiplicative_terms</th>\n",
              "      <th>multiplicative_terms_lower</th>\n",
              "      <th>multiplicative_terms_upper</th>\n",
              "      <th>yhat</th>\n",
              "    </tr>\n",
              "  </thead>\n",
              "  <tbody>\n",
              "    <tr>\n",
              "      <th>0</th>\n",
              "      <td>1992-01-01</td>\n",
              "      <td>1774.512619</td>\n",
              "      <td>1150.190289</td>\n",
              "      <td>1469.947397</td>\n",
              "      <td>1774.512619</td>\n",
              "      <td>1774.512619</td>\n",
              "      <td>-461.755050</td>\n",
              "      <td>-461.755050</td>\n",
              "      <td>-461.755050</td>\n",
              "      <td>-461.755050</td>\n",
              "      <td>-461.755050</td>\n",
              "      <td>-461.755050</td>\n",
              "      <td>0.0</td>\n",
              "      <td>0.0</td>\n",
              "      <td>0.0</td>\n",
              "      <td>1312.757569</td>\n",
              "    </tr>\n",
              "    <tr>\n",
              "      <th>1</th>\n",
              "      <td>1992-02-01</td>\n",
              "      <td>1777.322689</td>\n",
              "      <td>1179.899666</td>\n",
              "      <td>1508.110343</td>\n",
              "      <td>1777.322689</td>\n",
              "      <td>1777.322689</td>\n",
              "      <td>-427.146658</td>\n",
              "      <td>-427.146658</td>\n",
              "      <td>-427.146658</td>\n",
              "      <td>-427.146658</td>\n",
              "      <td>-427.146658</td>\n",
              "      <td>-427.146658</td>\n",
              "      <td>0.0</td>\n",
              "      <td>0.0</td>\n",
              "      <td>0.0</td>\n",
              "      <td>1350.176031</td>\n",
              "    </tr>\n",
              "    <tr>\n",
              "      <th>2</th>\n",
              "      <td>1992-03-01</td>\n",
              "      <td>1779.951464</td>\n",
              "      <td>1436.779685</td>\n",
              "      <td>1763.321160</td>\n",
              "      <td>1779.951464</td>\n",
              "      <td>1779.951464</td>\n",
              "      <td>-178.912314</td>\n",
              "      <td>-178.912314</td>\n",
              "      <td>-178.912314</td>\n",
              "      <td>-178.912314</td>\n",
              "      <td>-178.912314</td>\n",
              "      <td>-178.912314</td>\n",
              "      <td>0.0</td>\n",
              "      <td>0.0</td>\n",
              "      <td>0.0</td>\n",
              "      <td>1601.039150</td>\n",
              "    </tr>\n",
              "    <tr>\n",
              "      <th>3</th>\n",
              "      <td>1992-04-01</td>\n",
              "      <td>1782.761533</td>\n",
              "      <td>1419.407765</td>\n",
              "      <td>1748.001668</td>\n",
              "      <td>1782.761533</td>\n",
              "      <td>1782.761533</td>\n",
              "      <td>-196.056786</td>\n",
              "      <td>-196.056786</td>\n",
              "      <td>-196.056786</td>\n",
              "      <td>-196.056786</td>\n",
              "      <td>-196.056786</td>\n",
              "      <td>-196.056786</td>\n",
              "      <td>0.0</td>\n",
              "      <td>0.0</td>\n",
              "      <td>0.0</td>\n",
              "      <td>1586.704747</td>\n",
              "    </tr>\n",
              "    <tr>\n",
              "      <th>4</th>\n",
              "      <td>1992-05-01</td>\n",
              "      <td>1785.480956</td>\n",
              "      <td>1669.834195</td>\n",
              "      <td>1999.964085</td>\n",
              "      <td>1785.480956</td>\n",
              "      <td>1785.480956</td>\n",
              "      <td>45.197326</td>\n",
              "      <td>45.197326</td>\n",
              "      <td>45.197326</td>\n",
              "      <td>45.197326</td>\n",
              "      <td>45.197326</td>\n",
              "      <td>45.197326</td>\n",
              "      <td>0.0</td>\n",
              "      <td>0.0</td>\n",
              "      <td>0.0</td>\n",
              "      <td>1830.678281</td>\n",
              "    </tr>\n",
              "  </tbody>\n",
              "</table>\n",
              "</div>"
            ],
            "text/plain": [
              "          ds        trend  ...  multiplicative_terms_upper         yhat\n",
              "0 1992-01-01  1774.512619  ...                         0.0  1312.757569\n",
              "1 1992-02-01  1777.322689  ...                         0.0  1350.176031\n",
              "2 1992-03-01  1779.951464  ...                         0.0  1601.039150\n",
              "3 1992-04-01  1782.761533  ...                         0.0  1586.704747\n",
              "4 1992-05-01  1785.480956  ...                         0.0  1830.678281\n",
              "\n",
              "[5 rows x 16 columns]"
            ]
          },
          "metadata": {
            "tags": []
          },
          "execution_count": 23
        }
      ]
    },
    {
      "cell_type": "code",
      "metadata": {
        "colab": {
          "base_uri": "https://localhost:8080/"
        },
        "id": "5ptYtoYpLGy1",
        "outputId": "607f0381-d2c6-45eb-9bc0-8b629c607d9d"
      },
      "source": [
        "forecast.columns"
      ],
      "execution_count": 25,
      "outputs": [
        {
          "output_type": "execute_result",
          "data": {
            "text/plain": [
              "Index(['ds', 'trend', 'yhat_lower', 'yhat_upper', 'trend_lower', 'trend_upper',\n",
              "       'additive_terms', 'additive_terms_lower', 'additive_terms_upper',\n",
              "       'yearly', 'yearly_lower', 'yearly_upper', 'multiplicative_terms',\n",
              "       'multiplicative_terms_lower', 'multiplicative_terms_upper', 'yhat'],\n",
              "      dtype='object')"
            ]
          },
          "metadata": {
            "tags": []
          },
          "execution_count": 25
        }
      ]
    },
    {
      "cell_type": "code",
      "metadata": {
        "colab": {
          "base_uri": "https://localhost:8080/",
          "height": 425
        },
        "id": "FSvknGuqLP42",
        "outputId": "394f0996-5f79-4e1f-e421-f41351cb916e"
      },
      "source": [
        "forecast[['ds','yhat_lower', 'yhat_upper','yhat']].tail(12)"
      ],
      "execution_count": 26,
      "outputs": [
        {
          "output_type": "execute_result",
          "data": {
            "text/html": [
              "<div>\n",
              "<style scoped>\n",
              "    .dataframe tbody tr th:only-of-type {\n",
              "        vertical-align: middle;\n",
              "    }\n",
              "\n",
              "    .dataframe tbody tr th {\n",
              "        vertical-align: top;\n",
              "    }\n",
              "\n",
              "    .dataframe thead th {\n",
              "        text-align: right;\n",
              "    }\n",
              "</style>\n",
              "<table border=\"1\" class=\"dataframe\">\n",
              "  <thead>\n",
              "    <tr style=\"text-align: right;\">\n",
              "      <th></th>\n",
              "      <th>ds</th>\n",
              "      <th>yhat_lower</th>\n",
              "      <th>yhat_upper</th>\n",
              "      <th>yhat</th>\n",
              "    </tr>\n",
              "  </thead>\n",
              "  <tbody>\n",
              "    <tr>\n",
              "      <th>336</th>\n",
              "      <td>2020-01-01</td>\n",
              "      <td>4462.293214</td>\n",
              "      <td>4787.756163</td>\n",
              "      <td>4628.559148</td>\n",
              "    </tr>\n",
              "    <tr>\n",
              "      <th>337</th>\n",
              "      <td>2020-02-01</td>\n",
              "      <td>4515.839503</td>\n",
              "      <td>4848.805713</td>\n",
              "      <td>4679.231311</td>\n",
              "    </tr>\n",
              "    <tr>\n",
              "      <th>338</th>\n",
              "      <td>2020-03-01</td>\n",
              "      <td>4783.290575</td>\n",
              "      <td>5110.097751</td>\n",
              "      <td>4942.493052</td>\n",
              "    </tr>\n",
              "    <tr>\n",
              "      <th>339</th>\n",
              "      <td>2020-04-01</td>\n",
              "      <td>4773.111828</td>\n",
              "      <td>5106.684460</td>\n",
              "      <td>4941.412350</td>\n",
              "    </tr>\n",
              "    <tr>\n",
              "      <th>340</th>\n",
              "      <td>2020-05-01</td>\n",
              "      <td>5041.352063</td>\n",
              "      <td>5356.711847</td>\n",
              "      <td>5198.212046</td>\n",
              "    </tr>\n",
              "    <tr>\n",
              "      <th>341</th>\n",
              "      <td>2020-06-01</td>\n",
              "      <td>5006.115407</td>\n",
              "      <td>5342.337860</td>\n",
              "      <td>5178.840512</td>\n",
              "    </tr>\n",
              "    <tr>\n",
              "      <th>342</th>\n",
              "      <td>2020-07-01</td>\n",
              "      <td>5154.522091</td>\n",
              "      <td>5476.327046</td>\n",
              "      <td>5311.075537</td>\n",
              "    </tr>\n",
              "    <tr>\n",
              "      <th>343</th>\n",
              "      <td>2020-08-01</td>\n",
              "      <td>5078.513034</td>\n",
              "      <td>5390.974975</td>\n",
              "      <td>5240.612763</td>\n",
              "    </tr>\n",
              "    <tr>\n",
              "      <th>344</th>\n",
              "      <td>2020-09-01</td>\n",
              "      <td>4923.035594</td>\n",
              "      <td>5252.535112</td>\n",
              "      <td>5083.379410</td>\n",
              "    </tr>\n",
              "    <tr>\n",
              "      <th>345</th>\n",
              "      <td>2020-10-01</td>\n",
              "      <td>5019.519264</td>\n",
              "      <td>5358.352444</td>\n",
              "      <td>5188.922115</td>\n",
              "    </tr>\n",
              "    <tr>\n",
              "      <th>346</th>\n",
              "      <td>2020-11-01</td>\n",
              "      <td>5178.362353</td>\n",
              "      <td>5497.172618</td>\n",
              "      <td>5336.217749</td>\n",
              "    </tr>\n",
              "    <tr>\n",
              "      <th>347</th>\n",
              "      <td>2020-12-01</td>\n",
              "      <td>6183.899044</td>\n",
              "      <td>6506.914914</td>\n",
              "      <td>6334.440008</td>\n",
              "    </tr>\n",
              "  </tbody>\n",
              "</table>\n",
              "</div>"
            ],
            "text/plain": [
              "            ds   yhat_lower   yhat_upper         yhat\n",
              "336 2020-01-01  4462.293214  4787.756163  4628.559148\n",
              "337 2020-02-01  4515.839503  4848.805713  4679.231311\n",
              "338 2020-03-01  4783.290575  5110.097751  4942.493052\n",
              "339 2020-04-01  4773.111828  5106.684460  4941.412350\n",
              "340 2020-05-01  5041.352063  5356.711847  5198.212046\n",
              "341 2020-06-01  5006.115407  5342.337860  5178.840512\n",
              "342 2020-07-01  5154.522091  5476.327046  5311.075537\n",
              "343 2020-08-01  5078.513034  5390.974975  5240.612763\n",
              "344 2020-09-01  4923.035594  5252.535112  5083.379410\n",
              "345 2020-10-01  5019.519264  5358.352444  5188.922115\n",
              "346 2020-11-01  5178.362353  5497.172618  5336.217749\n",
              "347 2020-12-01  6183.899044  6506.914914  6334.440008"
            ]
          },
          "metadata": {
            "tags": []
          },
          "execution_count": 26
        }
      ]
    },
    {
      "cell_type": "code",
      "metadata": {
        "colab": {
          "base_uri": "https://localhost:8080/",
          "height": 459
        },
        "id": "7U2-xYlkLXXP",
        "outputId": "961b39af-e0a0-442b-e327-21bb673b4407"
      },
      "source": [
        "import matplotlib.pyplot as plt\n",
        "\n",
        "m.plot(forecast);\n",
        "pd.plotting.register_matplotlib_converters() \n",
        "plt.xlim('2014-01-01','2021-01-01')"
      ],
      "execution_count": 30,
      "outputs": [
        {
          "output_type": "execute_result",
          "data": {
            "text/plain": [
              "(735234.0, 737791.0)"
            ]
          },
          "metadata": {
            "tags": []
          },
          "execution_count": 30
        },
        {
          "output_type": "display_data",
          "data": {
            "image/png": "[encoded data removed]",
            "text/plain": [
              "<Figure size 720x432 with 1 Axes>"
            ]
          },
          "metadata": {
            "tags": []
          }
        }
      ]
    },
    {
      "cell_type": "code",
      "metadata": {
        "colab": {
          "base_uri": "https://localhost:8080/",
          "height": 297
        },
        "id": "Y2uZ1WhYLesR",
        "outputId": "365dc615-c574-48bd-c43d-b90725125ac2"
      },
      "source": [
        "forecast.plot(x='ds',y='yhat')"
      ],
      "execution_count": 31,
      "outputs": [
        {
          "output_type": "execute_result",
          "data": {
            "text/plain": [
              "<matplotlib.axes._subplots.AxesSubplot at 0x7f83756c1290>"
            ]
          },
          "metadata": {
            "tags": []
          },
          "execution_count": 31
        },
        {
          "output_type": "display_data",
          "data": {
            "image/png": "[encoded data removed]",
            "text/plain": [
              "<Figure size 432x288 with 1 Axes>"
            ]
          },
          "metadata": {
            "tags": [],
            "needs_background": "light"
          }
        }
      ]
    },
    {
      "cell_type": "code",
      "metadata": {
        "colab": {
          "base_uri": "https://localhost:8080/",
          "height": 441
        },
        "id": "3XREq2fnMenR",
        "outputId": "07355923-3d9b-41a9-9352-60baf46e1d6b"
      },
      "source": [
        "m.plot_components(forecast);"
      ],
      "execution_count": 33,
      "outputs": [
        {
          "output_type": "display_data",
          "data": {
            "image/png": "[encoded data removed]",
            "text/plain": [
              "<Figure size 648x432 with 2 Axes>"
            ]
          },
          "metadata": {
            "tags": []
          }
        }
      ]
    },
    {
      "cell_type": "code",
      "metadata": {
        "id": "sqoFrAxBMtUp"
      },
      "source": [
        ""
      ],
      "execution_count": null,
      "outputs": []
    }
  ]
}