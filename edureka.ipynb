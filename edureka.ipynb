{
  "nbformat": 4,
  "nbformat_minor": 0,
  "metadata": {
    "colab": {
      "name": "edureka.ipynb",
      "provenance": [],
      "authorship_tag": "ABX9TyOmgsNxia31B5S6eR3051A4",
      "include_colab_link": true
    },
    "kernelspec": {
      "name": "python3",
      "display_name": "Python 3"
    },
    "language_info": {
      "name": "python"
    }
  },
  "cells": [
    {
      "cell_type": "markdown",
      "metadata": {
        "id": "view-in-github",
        "colab_type": "text"
      },
      "source": [
        "<a href=\"https://colab.research.google.com/github/kunjkinger/machine-learning-projects/blob/graphical_modelling/edureka.ipynb\" target=\"_parent\"><img src=\"https://colab.research.google.com/assets/colab-badge.svg\" alt=\"Open In Colab\"/></a>"
      ]
    },
    {
      "cell_type": "code",
      "metadata": {
        "id": "14-hC42yn3Wm"
      },
      "source": [
        "def fact(n):\n",
        "  if n == 1:\n",
        "    return 1\n",
        "  else:\n",
        "    return n*fact(n-1)"
      ],
      "execution_count": 19,
      "outputs": []
    },
    {
      "cell_type": "code",
      "metadata": {
        "colab": {
          "base_uri": "https://localhost:8080/"
        },
        "id": "-vPKB8vWoBnQ",
        "outputId": "b9212563-5f22-42bf-dbd8-7cfb413f66f3"
      },
      "source": [
        "fact(6)"
      ],
      "execution_count": 20,
      "outputs": [
        {
          "output_type": "execute_result",
          "data": {
            "text/plain": [
              "720"
            ]
          },
          "metadata": {
            "tags": []
          },
          "execution_count": 20
        }
      ]
    },
    {
      "cell_type": "code",
      "metadata": {
        "id": "iuxpORYhp5B6"
      },
      "source": [
        "def fact(n):\n",
        "  result = 1\n",
        "  if (n<=1):\n",
        "    return 1\n",
        "  for i in range(2,n+1):\n",
        "    result = result *i\n",
        "  return result\n"
      ],
      "execution_count": 27,
      "outputs": []
    },
    {
      "cell_type": "code",
      "metadata": {
        "colab": {
          "base_uri": "https://localhost:8080/"
        },
        "id": "rYdxMDtoqw7a",
        "outputId": "f2b93b2b-9f3e-4349-95ff-80f19b66d0de"
      },
      "source": [
        "fact(6)"
      ],
      "execution_count": 28,
      "outputs": [
        {
          "output_type": "execute_result",
          "data": {
            "text/plain": [
              "720"
            ]
          },
          "metadata": {
            "tags": []
          },
          "execution_count": 28
        }
      ]
    },
    {
      "cell_type": "code",
      "metadata": {
        "colab": {
          "base_uri": "https://localhost:8080/"
        },
        "id": "JtALUsktqyIe",
        "outputId": "d12fa1cd-b0c8-44a5-bcd2-5ba348fb77a2"
      },
      "source": [
        "name = input('name')\n",
        "print('name',name)\n",
        "\n",
        "age = int(input('age'))\n",
        "print('age',age)\n",
        "type(age)"
      ],
      "execution_count": 34,
      "outputs": [
        {
          "output_type": "stream",
          "text": [
            "namekunj\n",
            "name kunj\n",
            "age27\n",
            "age 27\n"
          ],
          "name": "stdout"
        },
        {
          "output_type": "execute_result",
          "data": {
            "text/plain": [
              "int"
            ]
          },
          "metadata": {
            "tags": []
          },
          "execution_count": 34
        }
      ]
    },
    {
      "cell_type": "code",
      "metadata": {
        "colab": {
          "base_uri": "https://localhost:8080/"
        },
        "id": "7vqXW2wQrkx3",
        "outputId": "6d97401e-fe7d-476a-ba63-59bcb852c0b9"
      },
      "source": [
        "for x in [1,2,3,4,5]:\n",
        "  print(x**2)"
      ],
      "execution_count": 37,
      "outputs": [
        {
          "output_type": "stream",
          "text": [
            "1\n",
            "4\n",
            "9\n",
            "16\n",
            "25\n"
          ],
          "name": "stdout"
        }
      ]
    },
    {
      "cell_type": "code",
      "metadata": {
        "id": "dnzq9KC-w68O"
      },
      "source": [
        "list = []\n",
        "for x in [1,2,3,4,5]:\n",
        "  list.append(x**2)"
      ],
      "execution_count": 38,
      "outputs": []
    },
    {
      "cell_type": "code",
      "metadata": {
        "colab": {
          "base_uri": "https://localhost:8080/"
        },
        "id": "Qc3TgOMcxN1V",
        "outputId": "867619f5-b320-49f9-9263-eb4137148a73"
      },
      "source": [
        "list"
      ],
      "execution_count": 39,
      "outputs": [
        {
          "output_type": "execute_result",
          "data": {
            "text/plain": [
              "[1, 4, 9, 16, 25]"
            ]
          },
          "metadata": {
            "tags": []
          },
          "execution_count": 39
        }
      ]
    },
    {
      "cell_type": "code",
      "metadata": {
        "id": "ptgMYQWJxOnY"
      },
      "source": [
        "lis = [x**2 for x in [1,2,3,4,5]]"
      ],
      "execution_count": 41,
      "outputs": []
    },
    {
      "cell_type": "code",
      "metadata": {
        "colab": {
          "base_uri": "https://localhost:8080/"
        },
        "id": "yj6qdfQtxUV6",
        "outputId": "13552ae3-f5e4-4218-b18f-15fbc44ea39f"
      },
      "source": [
        "lis"
      ],
      "execution_count": 42,
      "outputs": [
        {
          "output_type": "execute_result",
          "data": {
            "text/plain": [
              "[1, 4, 9, 16, 25]"
            ]
          },
          "metadata": {
            "tags": []
          },
          "execution_count": 42
        }
      ]
    },
    {
      "cell_type": "code",
      "metadata": {
        "colab": {
          "base_uri": "https://localhost:8080/"
        },
        "id": "qGA-UCMQxV-2",
        "outputId": "a96fcc7c-512a-4a7c-fb93-5fb8cd667c3f"
      },
      "source": [
        "list = [1,2,3]\n",
        "list.extend(['g','h'])\n",
        "print(list) # extend add it in the end"
      ],
      "execution_count": 44,
      "outputs": [
        {
          "output_type": "stream",
          "text": [
            "[1, 2, 3, 'g', 'h']\n"
          ],
          "name": "stdout"
        }
      ]
    },
    {
      "cell_type": "code",
      "metadata": {
        "colab": {
          "base_uri": "https://localhost:8080/"
        },
        "id": "Aw3G0q8axnxh",
        "outputId": "63992e16-127a-4b1b-952d-2c697a6c2403"
      },
      "source": [
        "list.insert(1,'scripting') # inserting means in this line means at index location 1 add scripting\n",
        "print(list)"
      ],
      "execution_count": 46,
      "outputs": [
        {
          "output_type": "stream",
          "text": [
            "[1, 'scripting', 'scripting', 2, 3, 'g', 'h']\n"
          ],
          "name": "stdout"
        }
      ]
    },
    {
      "cell_type": "code",
      "metadata": {
        "id": "ZUuDrHksxxrZ"
      },
      "source": [
        "list4=['kunj','bhabhi','babe','mummy','papa','bhaiya']"
      ],
      "execution_count": 51,
      "outputs": []
    },
    {
      "cell_type": "code",
      "metadata": {
        "colab": {
          "base_uri": "https://localhost:8080/"
        },
        "id": "3lK7mljbyE4i",
        "outputId": "cf372ae0-2b60-4938-8e0d-a1660f17de77"
      },
      "source": [
        "print(sorted(list4))"
      ],
      "execution_count": 52,
      "outputs": [
        {
          "output_type": "stream",
          "text": [
            "['babe', 'bhabhi', 'bhaiya', 'kunj', 'mummy', 'papa']\n"
          ],
          "name": "stdout"
        }
      ]
    },
    {
      "cell_type": "code",
      "metadata": {
        "colab": {
          "base_uri": "https://localhost:8080/"
        },
        "id": "qxAgof4ayF24",
        "outputId": "b9ccfddc-4c56-43e3-d60c-5832997b6262"
      },
      "source": [
        "for course in  list4[::-1]:\n",
        "  print(course)\n",
        "print(list4)"
      ],
      "execution_count": 55,
      "outputs": [
        {
          "output_type": "stream",
          "text": [
            "bhaiya\n",
            "papa\n",
            "mummy\n",
            "babe\n",
            "bhabhi\n",
            "kunj\n",
            "['kunj', 'bhabhi', 'babe', 'mummy', 'papa', 'bhaiya']\n"
          ],
          "name": "stdout"
        }
      ]
    },
    {
      "cell_type": "code",
      "metadata": {
        "colab": {
          "base_uri": "https://localhost:8080/"
        },
        "id": "46XTtIbuyXHn",
        "outputId": "090e5a47-10c1-4134-c72f-43c5d034c0ea"
      },
      "source": [
        "tup2 = (1,2,3,4,5)\n",
        "tup3 = (2,3,44,5,6)\n",
        "tup4 = tup2+tup3\n",
        "print(tup4)"
      ],
      "execution_count": 56,
      "outputs": [
        {
          "output_type": "stream",
          "text": [
            "(1, 2, 3, 4, 5, 2, 3, 44, 5, 6)\n"
          ],
          "name": "stdout"
        }
      ]
    },
    {
      "cell_type": "code",
      "metadata": {
        "id": "fWl-aja5zbUi"
      },
      "source": [
        "tup = ([0,1,2],[1,2,3],[2,23,4]) \n",
        "tup[0][1] = 'kunj' # upgrading list not tuple "
      ],
      "execution_count": 61,
      "outputs": []
    },
    {
      "cell_type": "code",
      "metadata": {
        "colab": {
          "base_uri": "https://localhost:8080/"
        },
        "id": "h2ahbZV4zq4a",
        "outputId": "74fed493-1a9c-4150-f805-e2ec7bc64b7b"
      },
      "source": [
        "tup\n"
      ],
      "execution_count": 62,
      "outputs": [
        {
          "output_type": "execute_result",
          "data": {
            "text/plain": [
              "([0, 'kunj', 2], [1, 2, 3], [2, 23, 4])"
            ]
          },
          "metadata": {
            "tags": []
          },
          "execution_count": 62
        }
      ]
    },
    {
      "cell_type": "code",
      "metadata": {
        "id": "MT0yEXVvzri3"
      },
      "source": [
        "tupl1 = (0,1,2,3,'kunj','enaifcjni')"
      ],
      "execution_count": 1,
      "outputs": []
    },
    {
      "cell_type": "code",
      "metadata": {
        "colab": {
          "base_uri": "https://localhost:8080/"
        },
        "id": "rAI_191k0A_j",
        "outputId": "a60be8e5-1c44-4aa6-acc4-daf2f83991d5"
      },
      "source": [
        "lst = list (tupl1)\n",
        "print(lst)"
      ],
      "execution_count": 3,
      "outputs": [
        {
          "output_type": "stream",
          "text": [
            "[0, 1, 2, 3, 'kunj', 'enaifcjni']\n"
          ],
          "name": "stdout"
        }
      ]
    },
    {
      "cell_type": "code",
      "metadata": {
        "colab": {
          "base_uri": "https://localhost:8080/"
        },
        "id": "bGmyCVZj0i-A",
        "outputId": "16e912b2-88ec-4c2a-aa86-d4e905433737"
      },
      "source": [
        "tup = tuple(lst)\n",
        "print(tup)"
      ],
      "execution_count": 4,
      "outputs": [
        {
          "output_type": "stream",
          "text": [
            "(0, 1, 2, 3, 'kunj', 'enaifcjni')\n"
          ],
          "name": "stdout"
        }
      ]
    },
    {
      "cell_type": "code",
      "metadata": {
        "colab": {
          "base_uri": "https://localhost:8080/"
        },
        "id": "HTFuTqY60uAx",
        "outputId": "93d651d3-f877-486f-bb73-bb7bb7897133"
      },
      "source": [
        "tup1 = ([1,2,3],[1,2,3,4,7],[2,3,1])\n",
        "\n",
        "for item in tup1:\n",
        "  print(tuple (item))"
      ],
      "execution_count": 17,
      "outputs": [
        {
          "output_type": "stream",
          "text": [
            "(1, 2, 3)\n",
            "(1, 2, 3, 4, 7)\n",
            "(2, 3, 1)\n"
          ],
          "name": "stdout"
        }
      ]
    },
    {
      "cell_type": "code",
      "metadata": {
        "colab": {
          "base_uri": "https://localhost:8080/"
        },
        "id": "gSTT4vRc05e6",
        "outputId": "8c5413a9-f323-41cb-94d0-c9ccbea703ec"
      },
      "source": [
        "for item in tup1:\n",
        "  print(item)"
      ],
      "execution_count": 18,
      "outputs": [
        {
          "output_type": "stream",
          "text": [
            "[1, 2, 3]\n",
            "[1, 2, 3, 4, 7]\n",
            "[2, 3, 1]\n"
          ],
          "name": "stdout"
        }
      ]
    },
    {
      "cell_type": "code",
      "metadata": {
        "colab": {
          "base_uri": "https://localhost:8080/"
        },
        "id": "URFIFakM1Z4G",
        "outputId": "49f8ee0c-fb04-4a45-d9e0-f23330e34c31"
      },
      "source": [
        " string = 'kunj is a computational neuroscientist.'\n",
        " print(string.capitalize()) # capitalize the first character\n",
        " print(string.count('u',0,len(string))) # this line represents how many times u occur in a string and find from index 0 till end."
      ],
      "execution_count": 41,
      "outputs": [
        {
          "output_type": "stream",
          "text": [
            "Kunj is a computational neuroscientist.\n",
            "3\n"
          ],
          "name": "stdout"
        }
      ]
    },
    {
      "cell_type": "code",
      "metadata": {
        "colab": {
          "base_uri": "https://localhost:8080/"
        },
        "id": "1g5uCTgf21qF",
        "outputId": "017b2158-a567-456d-82b5-a81933a1a9d1"
      },
      "source": [
        "s = string.encode('utf-8','strict')\n",
        "print(s)"
      ],
      "execution_count": 42,
      "outputs": [
        {
          "output_type": "stream",
          "text": [
            "b'kunj is a computational neuroscientist.'\n"
          ],
          "name": "stdout"
        }
      ]
    },
    {
      "cell_type": "code",
      "metadata": {
        "colab": {
          "base_uri": "https://localhost:8080/"
        },
        "id": "pJ2xPpVN3Qk4",
        "outputId": "49920ffd-a09d-4edb-ee5c-c617760cf4e2"
      },
      "source": [
        "print(max(string)) #max gives the maximum for u and min for a\n",
        "#print(min(string))"
      ],
      "execution_count": 43,
      "outputs": [
        {
          "output_type": "stream",
          "text": [
            "u\n"
          ],
          "name": "stdout"
        }
      ]
    },
    {
      "cell_type": "code",
      "metadata": {
        "colab": {
          "base_uri": "https://localhost:8080/"
        },
        "id": "2pjSyDNZ3aRR",
        "outputId": "28628506-d41b-407b-8ae6-bc73d5fd42a4"
      },
      "source": [
        "print(string.replace('c','--C--',2)) # (old,new,count)"
      ],
      "execution_count": 44,
      "outputs": [
        {
          "output_type": "stream",
          "text": [
            "kunj is a --C--omputational neuros--C--ientist.\n"
          ],
          "name": "stdout"
        }
      ]
    },
    {
      "cell_type": "code",
      "metadata": {
        "colab": {
          "base_uri": "https://localhost:8080/",
          "height": 253
        },
        "id": "-SGFtruq398b",
        "outputId": "29d389c9-0eb2-414a-c6ba-f7a822433801"
      },
      "source": [
        "print(string.upper())\n",
        "print(string.lower())\n",
        "print(string.index('c'))\n",
        "print(string.index('z'))"
      ],
      "execution_count": 49,
      "outputs": [
        {
          "output_type": "stream",
          "text": [
            "KUNJ IS A COMPUTATIONAL NEUROSCIENTIST.\n",
            "kunj is a computational neuroscientist.\n",
            "10\n"
          ],
          "name": "stdout"
        },
        {
          "output_type": "error",
          "ename": "ValueError",
          "evalue": "ignored",
          "traceback": [
            "\u001b[0;31m---------------------------------------------------------------------------\u001b[0m",
            "\u001b[0;31mValueError\u001b[0m                                Traceback (most recent call last)",
            "\u001b[0;32m<ipython-input-49-9a8f1dde9fea>\u001b[0m in \u001b[0;36m<module>\u001b[0;34m()\u001b[0m\n\u001b[1;32m      2\u001b[0m \u001b[0mprint\u001b[0m\u001b[0;34m(\u001b[0m\u001b[0mstring\u001b[0m\u001b[0;34m.\u001b[0m\u001b[0mlower\u001b[0m\u001b[0;34m(\u001b[0m\u001b[0;34m)\u001b[0m\u001b[0;34m)\u001b[0m\u001b[0;34m\u001b[0m\u001b[0;34m\u001b[0m\u001b[0m\n\u001b[1;32m      3\u001b[0m \u001b[0mprint\u001b[0m\u001b[0;34m(\u001b[0m\u001b[0mstring\u001b[0m\u001b[0;34m.\u001b[0m\u001b[0mindex\u001b[0m\u001b[0;34m(\u001b[0m\u001b[0;34m'c'\u001b[0m\u001b[0;34m)\u001b[0m\u001b[0;34m)\u001b[0m\u001b[0;34m\u001b[0m\u001b[0;34m\u001b[0m\u001b[0m\n\u001b[0;32m----> 4\u001b[0;31m \u001b[0mprint\u001b[0m\u001b[0;34m(\u001b[0m\u001b[0mstring\u001b[0m\u001b[0;34m.\u001b[0m\u001b[0mindex\u001b[0m\u001b[0;34m(\u001b[0m\u001b[0;34m'z'\u001b[0m\u001b[0;34m)\u001b[0m\u001b[0;34m)\u001b[0m\u001b[0;34m\u001b[0m\u001b[0;34m\u001b[0m\u001b[0m\n\u001b[0m",
            "\u001b[0;31mValueError\u001b[0m: substring not found"
          ]
        }
      ]
    },
    {
      "cell_type": "code",
      "metadata": {
        "colab": {
          "base_uri": "https://localhost:8080/"
        },
        "id": "DhyshT_X4IGx",
        "outputId": "1c480d54-00e0-4179-c21f-2ed1d3b3b135"
      },
      "source": [
        "print(string.find('n'))\n",
        "print(string.find('z'))"
      ],
      "execution_count": 50,
      "outputs": [
        {
          "output_type": "stream",
          "text": [
            "2\n",
            "-1\n"
          ],
          "name": "stdout"
        }
      ]
    },
    {
      "cell_type": "code",
      "metadata": {
        "id": "hZuutHtu4hHu"
      },
      "source": [
        "#enumerate"
      ],
      "execution_count": 51,
      "outputs": []
    },
    {
      "cell_type": "code",
      "metadata": {
        "id": "51PLgSlyBpBs"
      },
      "source": [
        "family = ['bhabhi','papa','mummy','bhaiya','me','babe']"
      ],
      "execution_count": 52,
      "outputs": []
    },
    {
      "cell_type": "code",
      "metadata": {
        "id": "wPq4Vb9zBvzB"
      },
      "source": [
        "enumerate_family = enumerate(family)"
      ],
      "execution_count": 53,
      "outputs": []
    },
    {
      "cell_type": "code",
      "metadata": {
        "colab": {
          "base_uri": "https://localhost:8080/"
        },
        "id": "uLcldeg6BzVC",
        "outputId": "e8ac9ceb-146e-4ea9-9476-307f17fa70a1"
      },
      "source": [
        "print(type(enumerate_family))"
      ],
      "execution_count": 54,
      "outputs": [
        {
          "output_type": "stream",
          "text": [
            "<class 'enumerate'>\n"
          ],
          "name": "stdout"
        }
      ]
    },
    {
      "cell_type": "code",
      "metadata": {
        "colab": {
          "base_uri": "https://localhost:8080/"
        },
        "id": "W5sOnCYHB5WI",
        "outputId": "3697f8f3-35e3-4f6b-b48b-0abba158550c"
      },
      "source": [
        "print(list(enumerate_family))"
      ],
      "execution_count": 55,
      "outputs": [
        {
          "output_type": "stream",
          "text": [
            "[(0, 'bhabhi'), (1, 'papa'), (2, 'mummy'), (3, 'bhaiya'), (4, 'me'), (5, 'babe')]\n"
          ],
          "name": "stdout"
        }
      ]
    },
    {
      "cell_type": "code",
      "metadata": {
        "colab": {
          "base_uri": "https://localhost:8080/"
        },
        "id": "iggVHlnPB8eW",
        "outputId": "af53219e-eaf8-4a0a-fe69-fc51ceb20780"
      },
      "source": [
        "#chaning the default counter\n",
        "enumerate_family = enumerate(family,10)\n",
        "print(list(enumerate_family))"
      ],
      "execution_count": 56,
      "outputs": [
        {
          "output_type": "stream",
          "text": [
            "[(10, 'bhabhi'), (11, 'papa'), (12, 'mummy'), (13, 'bhaiya'), (14, 'me'), (15, 'babe')]\n"
          ],
          "name": "stdout"
        }
      ]
    },
    {
      "cell_type": "code",
      "metadata": {
        "id": "Jr2jEoqiCLv1"
      },
      "source": [
        "#lambda function"
      ],
      "execution_count": 57,
      "outputs": []
    },
    {
      "cell_type": "code",
      "metadata": {
        "id": "ewRw1IcfCSmM"
      },
      "source": [
        ""
      ],
      "execution_count": null,
      "outputs": []
    }
  ]
}