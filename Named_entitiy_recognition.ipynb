{
  "nbformat": 4,
  "nbformat_minor": 0,
  "metadata": {
    "colab": {
      "name": "Named_entitiy_recognition.ipynb",
      "provenance": [],
      "collapsed_sections": [],
      "authorship_tag": "ABX9TyPvSr/V/CNXORVOX/pSEL2r",
      "include_colab_link": true
    },
    "kernelspec": {
      "name": "python3",
      "display_name": "Python 3"
    },
    "language_info": {
      "name": "python"
    }
  },
  "cells": [
    {
      "cell_type": "markdown",
      "metadata": {
        "id": "view-in-github",
        "colab_type": "text"
      },
      "source": [
        "<a href=\"https://colab.research.google.com/github/kunjkinger/machine-learning-projects/blob/nlp/Named_entitiy_recognition.ipynb\" target=\"_parent\"><img src=\"https://colab.research.google.com/assets/colab-badge.svg\" alt=\"Open In Colab\"/></a>"
      ]
    },
    {
      "cell_type": "code",
      "metadata": {
        "id": "ZKN3yUkADUjG"
      },
      "source": [
        "import spacy\n"
      ],
      "execution_count": 3,
      "outputs": []
    },
    {
      "cell_type": "code",
      "metadata": {
        "id": "9Msgfi3vDy8V"
      },
      "source": [
        "nlp = spacy.load('en_core_web_sm')"
      ],
      "execution_count": 4,
      "outputs": []
    },
    {
      "cell_type": "code",
      "metadata": {
        "id": "0QwHZxpzDVvS"
      },
      "source": [
        "doc = nlp(u\"Our company create a brand new vacuum cleaner.\"\n",
        "          u\"This new vacuum-cleaner is the best in show.\")"
      ],
      "execution_count": 5,
      "outputs": []
    },
    {
      "cell_type": "code",
      "metadata": {
        "id": "l9Zp8IWiDl9S"
      },
      "source": [
        "def show_ents(doc):\n",
        "  if doc.ents:\n",
        "    for ent in doc.ents:\n",
        "      print(ent.text + ' - ' + ent.label_ + ' - ' + str(spacy.explain(ent.label_)))\n",
        "  else:\n",
        "    print('NO entities found')"
      ],
      "execution_count": 9,
      "outputs": []
    },
    {
      "cell_type": "code",
      "metadata": {
        "colab": {
          "base_uri": "https://localhost:8080/"
        },
        "id": "AxrtXBedETWp",
        "outputId": "039a3a04-ba84-4f85-b2f7-b1b29cef2bf3"
      },
      "source": [
        "show_ents(doc)"
      ],
      "execution_count": 10,
      "outputs": [
        {
          "output_type": "stream",
          "text": [
            "NO entities found\n"
          ],
          "name": "stdout"
        }
      ]
    },
    {
      "cell_type": "code",
      "metadata": {
        "id": "keqIj0HSOncc"
      },
      "source": [
        "from spacy.matcher import PhraseMatcher"
      ],
      "execution_count": 17,
      "outputs": []
    },
    {
      "cell_type": "code",
      "metadata": {
        "id": "gJJL54IvOtQf"
      },
      "source": [
        "matcher = PhraseMatcher(nlp.vocab)"
      ],
      "execution_count": 18,
      "outputs": []
    },
    {
      "cell_type": "code",
      "metadata": {
        "id": "wcjzlfBaPNl5"
      },
      "source": [
        "phrase_list = ['vacuum cleaner','vacuum-cleaner']"
      ],
      "execution_count": 19,
      "outputs": []
    },
    {
      "cell_type": "code",
      "metadata": {
        "id": "OoP4oBQ9PUKV"
      },
      "source": [
        "phrase_patterns = [nlp(text) for text in phrase_list]"
      ],
      "execution_count": 20,
      "outputs": []
    },
    {
      "cell_type": "code",
      "metadata": {
        "id": "vz6IwhdJPa6-"
      },
      "source": [
        "matcher.add('newproduct',None,*phrase_patterns)"
      ],
      "execution_count": 21,
      "outputs": []
    },
    {
      "cell_type": "code",
      "metadata": {
        "id": "zSZDp-zjQy5d"
      },
      "source": [
        "found_matches = matcher(doc)"
      ],
      "execution_count": 22,
      "outputs": []
    },
    {
      "cell_type": "code",
      "metadata": {
        "colab": {
          "base_uri": "https://localhost:8080/"
        },
        "id": "yxkUxU4RQ3CK",
        "outputId": "99b4d600-448b-41c7-bef6-7b018078b6c7"
      },
      "source": [
        "found_matches"
      ],
      "execution_count": 23,
      "outputs": [
        {
          "output_type": "execute_result",
          "data": {
            "text/plain": [
              "[(2689272359382549672, 6, 8), (2689272359382549672, 11, 14)]"
            ]
          },
          "metadata": {
            "tags": []
          },
          "execution_count": 23
        }
      ]
    },
    {
      "cell_type": "code",
      "metadata": {
        "id": "vhRlLyMvQ4D9"
      },
      "source": [
        "from spacy.tokens import Span"
      ],
      "execution_count": 24,
      "outputs": []
    },
    {
      "cell_type": "code",
      "metadata": {
        "id": "K1nJ0ZwbRGmu"
      },
      "source": [
        "PROD = doc.vocab.strings[u\"PRODUCT\"]"
      ],
      "execution_count": 25,
      "outputs": []
    },
    {
      "cell_type": "code",
      "metadata": {
        "colab": {
          "base_uri": "https://localhost:8080/"
        },
        "id": "BLUoPPcPROXv",
        "outputId": "407a8c75-4fc8-4f52-c0d6-f4eddec4008d"
      },
      "source": [
        "found_matches"
      ],
      "execution_count": 26,
      "outputs": [
        {
          "output_type": "execute_result",
          "data": {
            "text/plain": [
              "[(2689272359382549672, 6, 8), (2689272359382549672, 11, 14)]"
            ]
          },
          "metadata": {
            "tags": []
          },
          "execution_count": 26
        }
      ]
    },
    {
      "cell_type": "code",
      "metadata": {
        "id": "17fRQY_eRPrq"
      },
      "source": [
        "new_ents = [Span(doc,match[1],match[2],label=PROD) for match in found_matches]"
      ],
      "execution_count": 27,
      "outputs": []
    },
    {
      "cell_type": "code",
      "metadata": {
        "id": "cKSVn7VXSPw8"
      },
      "source": [
        "doc.ents = list(doc.ents) + new_ents"
      ],
      "execution_count": 33,
      "outputs": []
    },
    {
      "cell_type": "code",
      "metadata": {
        "colab": {
          "base_uri": "https://localhost:8080/"
        },
        "id": "dD29bWZNSXSd",
        "outputId": "f8622d29-08f6-4c6c-8e98-c25b4e64181e"
      },
      "source": [
        "show_ents(doc)"
      ],
      "execution_count": 34,
      "outputs": [
        {
          "output_type": "stream",
          "text": [
            "vacuum cleaner - PRODUCT - Objects, vehicles, foods, etc. (not services)\n",
            "vacuum-cleaner - PRODUCT - Objects, vehicles, foods, etc. (not services)\n"
          ],
          "name": "stdout"
        }
      ]
    },
    {
      "cell_type": "code",
      "metadata": {
        "id": "Gdu73e5pS2PV"
      },
      "source": [
        "doc = nlp(u\"Originally I paid $29.95 for this car toy, but now it is marked down by 10 dollars.\")"
      ],
      "execution_count": 43,
      "outputs": []
    },
    {
      "cell_type": "code",
      "metadata": {
        "colab": {
          "base_uri": "https://localhost:8080/"
        },
        "id": "3Rg_8QCyTHM3",
        "outputId": "f3db4bb4-638d-4faa-9280-864059729700"
      },
      "source": [
        "[ent for ent in doc.ents if ent.label_ == \"MONEY\"]"
      ],
      "execution_count": 44,
      "outputs": [
        {
          "output_type": "execute_result",
          "data": {
            "text/plain": [
              "[29.95, 10 dollars]"
            ]
          },
          "metadata": {
            "tags": []
          },
          "execution_count": 44
        }
      ]
    },
    {
      "cell_type": "code",
      "metadata": {
        "id": "tEXOcK_JTOmO"
      },
      "source": [
        ""
      ],
      "execution_count": null,
      "outputs": []
    }
  ]
}