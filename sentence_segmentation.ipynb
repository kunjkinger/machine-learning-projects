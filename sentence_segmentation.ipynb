{
  "nbformat": 4,
  "nbformat_minor": 0,
  "metadata": {
    "colab": {
      "name": "sentence_segmentation.ipynb",
      "provenance": [],
      "collapsed_sections": [],
      "authorship_tag": "ABX9TyPdMR3gMZiCq/fF2Vh5eVTw",
      "include_colab_link": true
    },
    "kernelspec": {
      "name": "python3",
      "display_name": "Python 3"
    },
    "language_info": {
      "name": "python"
    }
  },
  "cells": [
    {
      "cell_type": "markdown",
      "metadata": {
        "id": "view-in-github",
        "colab_type": "text"
      },
      "source": [
        "<a href=\"https://colab.research.google.com/github/kunjkinger/machine-learning-projects/blob/nlp/sentence_segmentation.ipynb\" target=\"_parent\"><img src=\"https://colab.research.google.com/assets/colab-badge.svg\" alt=\"Open In Colab\"/></a>"
      ]
    },
    {
      "cell_type": "code",
      "metadata": {
        "id": "HiTCEcTyaAfu"
      },
      "source": [
        "import spacy"
      ],
      "execution_count": 1,
      "outputs": []
    },
    {
      "cell_type": "code",
      "metadata": {
        "id": "CIAOwp_vaB6j"
      },
      "source": [
        "nlp = spacy.load('en_core_web_sm')"
      ],
      "execution_count": 2,
      "outputs": []
    },
    {
      "cell_type": "code",
      "metadata": {
        "id": "X5sVedB5aHwD"
      },
      "source": [
        "doc = nlp(u\"This is the first sentence. This is another sentence. This is the last sentence.\")"
      ],
      "execution_count": 3,
      "outputs": []
    },
    {
      "cell_type": "code",
      "metadata": {
        "colab": {
          "base_uri": "https://localhost:8080/"
        },
        "id": "XJBlRl4gaQv5",
        "outputId": "ee451326-c5ce-4f55-cf9c-90e0d2db4dd2"
      },
      "source": [
        "for sent in doc.sents:\n",
        "  print(sent)"
      ],
      "execution_count": 4,
      "outputs": [
        {
          "output_type": "stream",
          "text": [
            "This is the first sentence.\n",
            "This is another sentence.\n",
            "This is the last sentence.\n"
          ],
          "name": "stdout"
        }
      ]
    },
    {
      "cell_type": "code",
      "metadata": {
        "id": "llpSmMbZaYTx"
      },
      "source": [
        "doc = nlp(u'\"Management is doing the right things; leadership is doing the right things.\" -Peter Drucker')"
      ],
      "execution_count": 5,
      "outputs": []
    },
    {
      "cell_type": "code",
      "metadata": {
        "colab": {
          "base_uri": "https://localhost:8080/",
          "height": 35
        },
        "id": "TdDkD6IsbJn9",
        "outputId": "a7ec9155-4b7a-4cd3-f1b2-a48d3b4e4662"
      },
      "source": [
        "doc.text"
      ],
      "execution_count": 6,
      "outputs": [
        {
          "output_type": "execute_result",
          "data": {
            "application/vnd.google.colaboratory.intrinsic+json": {
              "type": "string"
            },
            "text/plain": [
              "'\"Management is doing the right things; leadership is doing the right things.\" -Peter Drucker'"
            ]
          },
          "metadata": {
            "tags": []
          },
          "execution_count": 6
        }
      ]
    },
    {
      "cell_type": "code",
      "metadata": {
        "colab": {
          "base_uri": "https://localhost:8080/"
        },
        "id": "9IoPeAJZbLeO",
        "outputId": "889a5c5e-2066-4e3a-e47d-3df1fdbce590"
      },
      "source": [
        "for sent in doc.sents:\n",
        "  print(sent)\n",
        "  print('\\n')"
      ],
      "execution_count": 7,
      "outputs": [
        {
          "output_type": "stream",
          "text": [
            "\"Management is doing the right things; leadership is doing the right things.\"\n",
            "\n",
            "\n",
            "-Peter\n",
            "\n",
            "\n",
            "Drucker\n",
            "\n",
            "\n"
          ],
          "name": "stdout"
        }
      ]
    },
    {
      "cell_type": "code",
      "metadata": {
        "id": "1kZi4e-wbQNl"
      },
      "source": [
        "# add a segmentation rule"
      ],
      "execution_count": 8,
      "outputs": []
    },
    {
      "cell_type": "code",
      "metadata": {
        "id": "0LQeXFIubtkN"
      },
      "source": [
        "def set_custom_boundaries(doc):\n",
        "  for token in doc[:-1]:\n",
        "    if token.text == ';':\n",
        "      doc[token.i+1].is_sent_start = True\n",
        "  return doc"
      ],
      "execution_count": 9,
      "outputs": []
    },
    {
      "cell_type": "code",
      "metadata": {
        "colab": {
          "base_uri": "https://localhost:8080/"
        },
        "id": "PVKU6Ix3b5mV",
        "outputId": "58f8a914-3de4-42f9-e7db-67e4add3db9f"
      },
      "source": [
        "nlp.add_pipe(set_custom_boundaries,before='parser')\n",
        "\n",
        "nlp.pipe_names"
      ],
      "execution_count": 10,
      "outputs": [
        {
          "output_type": "execute_result",
          "data": {
            "text/plain": [
              "['tagger', 'set_custom_boundaries', 'parser', 'ner']"
            ]
          },
          "metadata": {
            "tags": []
          },
          "execution_count": 10
        }
      ]
    },
    {
      "cell_type": "code",
      "metadata": {
        "id": "HFIZdH2HcuxS"
      },
      "source": [
        "doc4= nlp(u'\"Management is doing the right things; leadership is doing the right things.\" -Peter Drucker')"
      ],
      "execution_count": 11,
      "outputs": []
    },
    {
      "cell_type": "code",
      "metadata": {
        "colab": {
          "base_uri": "https://localhost:8080/"
        },
        "id": "JUwsmZCec8cf",
        "outputId": "dc300821-bd76-4edf-d1f4-a0536aabb6be"
      },
      "source": [
        "for sent in doc4.sents:\n",
        "  print(sent)"
      ],
      "execution_count": 13,
      "outputs": [
        {
          "output_type": "stream",
          "text": [
            "\"Management is doing the right things;\n",
            "leadership is doing the right things.\"\n",
            "-Peter\n",
            "Drucker\n"
          ],
          "name": "stdout"
        }
      ]
    },
    {
      "cell_type": "code",
      "metadata": {
        "id": "zpCqholpc_hJ"
      },
      "source": [
        ""
      ],
      "execution_count": 13,
      "outputs": []
    },
    {
      "cell_type": "markdown",
      "metadata": {
        "id": "HrRQ8lrseBY9"
      },
      "source": [
        "#change segmentation rules"
      ]
    },
    {
      "cell_type": "code",
      "metadata": {
        "id": "fwraXGnQeKxS"
      },
      "source": [
        "nlp = spacy.load('en_core_web_sm') # to reload "
      ],
      "execution_count": 17,
      "outputs": []
    },
    {
      "cell_type": "code",
      "metadata": {
        "id": "wrM8xd8_eYl0"
      },
      "source": [
        "mystring = u\"This is a sentence. This is another.\\n\\nThis is a \\nthird sentence.\""
      ],
      "execution_count": 21,
      "outputs": []
    },
    {
      "cell_type": "code",
      "metadata": {
        "colab": {
          "base_uri": "https://localhost:8080/"
        },
        "id": "7HH4ks5delHU",
        "outputId": "d369f92b-a905-42fb-e7e2-e5d4e3f0310c"
      },
      "source": [
        "print(mystring)"
      ],
      "execution_count": 22,
      "outputs": [
        {
          "output_type": "stream",
          "text": [
            "This is a sentence. This is another.\n",
            "\n",
            "This is a \n",
            "third sentence.\n"
          ],
          "name": "stdout"
        }
      ]
    },
    {
      "cell_type": "code",
      "metadata": {
        "id": "EGczjrmtem_q"
      },
      "source": [
        "doc = nlp(mystring)"
      ],
      "execution_count": 23,
      "outputs": []
    },
    {
      "cell_type": "code",
      "metadata": {
        "colab": {
          "base_uri": "https://localhost:8080/"
        },
        "id": "zOExltDIe-we",
        "outputId": "91f1bdfb-56e9-4e0e-db54-922429f732b5"
      },
      "source": [
        "for sent in doc.sents:\n",
        "  print(sent)"
      ],
      "execution_count": 24,
      "outputs": [
        {
          "output_type": "stream",
          "text": [
            "This is a sentence.\n",
            "This is another.\n",
            "\n",
            "\n",
            "This is a \n",
            "third sentence.\n"
          ],
          "name": "stdout"
        }
      ]
    },
    {
      "cell_type": "code",
      "metadata": {
        "id": "EF9NMKAFfBUC"
      },
      "source": [
        "from spacy.pipeline import SentenceSegmenter"
      ],
      "execution_count": 25,
      "outputs": []
    },
    {
      "cell_type": "code",
      "metadata": {
        "id": "szbs_kRrfNMr"
      },
      "source": [
        "def split_on_newline(doc):\n",
        "  start = 0\n",
        "  seen_new_line = False\n",
        "\n",
        "  for word in doc:\n",
        "    if seen_new_line:\n",
        "      yield doc[start:word.i]\n",
        "      start = word.i\n",
        "      seen_new_line = False\n",
        "    elif word.text.startswith('\\n'):\n",
        "      seen_new_line = True\n",
        "  \n",
        "  yield doc[start:]"
      ],
      "execution_count": 26,
      "outputs": []
    },
    {
      "cell_type": "code",
      "metadata": {
        "id": "GvZTr4lYf-a5"
      },
      "source": [
        "sbd = SentenceSegmenter(nlp.vocab,strategy=split_on_newline)"
      ],
      "execution_count": 27,
      "outputs": []
    },
    {
      "cell_type": "code",
      "metadata": {
        "id": "oHGcxW7JgCi3"
      },
      "source": [
        "nlp.add_pipe(sbd)"
      ],
      "execution_count": 28,
      "outputs": []
    },
    {
      "cell_type": "code",
      "metadata": {
        "id": "TtKKukWYgFVO"
      },
      "source": [
        "doc = nlp(mystring)"
      ],
      "execution_count": 29,
      "outputs": []
    },
    {
      "cell_type": "code",
      "metadata": {
        "colab": {
          "base_uri": "https://localhost:8080/"
        },
        "id": "bDo4crfAgG78",
        "outputId": "37314df9-acba-4694-fcd0-3024c6f2b0de"
      },
      "source": [
        "for sent in doc.sents:\n",
        "  print(sent)"
      ],
      "execution_count": 30,
      "outputs": [
        {
          "output_type": "stream",
          "text": [
            "This is a sentence. This is another.\n",
            "\n",
            "\n",
            "This is a \n",
            "\n",
            "third sentence.\n"
          ],
          "name": "stdout"
        }
      ]
    },
    {
      "cell_type": "code",
      "metadata": {
        "id": "6czZFEn9gJep"
      },
      "source": [
        ""
      ],
      "execution_count": null,
      "outputs": []
    }
  ]
}