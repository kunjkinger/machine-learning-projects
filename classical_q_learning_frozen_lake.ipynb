{
  "nbformat": 4,
  "nbformat_minor": 0,
  "metadata": {
    "colab": {
      "name": "classical_q_learning.ipynb",
      "provenance": [],
      "collapsed_sections": [],
      "authorship_tag": "ABX9TyMov50PGdP3ml2XIwE8scbR",
      "include_colab_link": true
    },
    "kernelspec": {
      "name": "python3",
      "display_name": "Python 3"
    },
    "language_info": {
      "name": "python"
    }
  },
  "cells": [
    {
      "cell_type": "markdown",
      "metadata": {
        "id": "view-in-github",
        "colab_type": "text"
      },
      "source": [
        "<a href=\"https://colab.research.google.com/github/kunjkinger/machine-learning-projects/blob/reinforcement_learning/classical_q_learning_frozen_lake.ipynb\" target=\"_parent\"><img src=\"https://colab.research.google.com/assets/colab-badge.svg\" alt=\"Open In Colab\"/></a>"
      ]
    },
    {
      "cell_type": "code",
      "metadata": {
        "id": "UyNrjAUbZ_Jt"
      },
      "source": [
        "import numpy as np\n",
        "import matplotlib.pyplot as plt\n",
        "import time"
      ],
      "execution_count": 1,
      "outputs": []
    },
    {
      "cell_type": "code",
      "metadata": {
        "id": "3ljKBYegaIBF"
      },
      "source": [
        "import gym"
      ],
      "execution_count": 2,
      "outputs": []
    },
    {
      "cell_type": "code",
      "metadata": {
        "id": "d4DwWVTxaOuQ"
      },
      "source": [
        "from gym.envs.registration import register\n",
        "\n",
        "try:\n",
        "  register(\n",
        "    id='FrozenLakeNotSlippery-v0',\n",
        "    entry_point='gym.envs.toy_text:FrozenLakeEnv',\n",
        "    kwargs={'map_name':'4x4','is_slippery':False},\n",
        "    max_episode_steps=100,\n",
        "    reward_threshold=0.78,  \n",
        "  )\n",
        "except:\n",
        " print('Already Registered') "
      ],
      "execution_count": 3,
      "outputs": []
    },
    {
      "cell_type": "code",
      "metadata": {
        "id": "SlyZuDOSc_OG"
      },
      "source": [
        "from IPython.display import clear_output"
      ],
      "execution_count": 4,
      "outputs": []
    },
    {
      "cell_type": "code",
      "metadata": {
        "colab": {
          "base_uri": "https://localhost:8080/"
        },
        "id": "fTWIHSH6bl0n",
        "outputId": "430f74bf-7525-4097-ec59-73a782354afa"
      },
      "source": [
        "env = gym.make('FrozenLakeNotSlippery-v0')\n",
        "env.reset()\n",
        "\n",
        "for step in range(15):\n",
        "  env.render()\n",
        "  action = env.action_space.sample()\n",
        "  observation,reward,done,info = env.step(action)\n",
        "  time.sleep(0.2)\n",
        "  clear_output(wait=True)\n",
        "\n",
        "  if done:\n",
        "    break\n",
        "\n",
        "env.close()"
      ],
      "execution_count": 5,
      "outputs": [
        {
          "output_type": "stream",
          "text": [
            "  (Right)\n",
            "SFF\u001b[41mF\u001b[0m\n",
            "FHFH\n",
            "FFFH\n",
            "HFFG\n"
          ],
          "name": "stdout"
        }
      ]
    },
    {
      "cell_type": "code",
      "metadata": {
        "id": "bimc__WNb_cI"
      },
      "source": [
        "action_size = env.action_space.n\n",
        "state_size = env.observation_space.n #observation is same as state\n"
      ],
      "execution_count": 6,
      "outputs": []
    },
    {
      "cell_type": "code",
      "metadata": {
        "colab": {
          "base_uri": "https://localhost:8080/"
        },
        "id": "7uOJMRbQe5vo",
        "outputId": "bee8fc8e-3474-45ba-e403-b1c204dc92d2"
      },
      "source": [
        "action_size # means 4 action up, down, left, right"
      ],
      "execution_count": 7,
      "outputs": [
        {
          "output_type": "execute_result",
          "data": {
            "text/plain": [
              "4"
            ]
          },
          "metadata": {
            "tags": []
          },
          "execution_count": 7
        }
      ]
    },
    {
      "cell_type": "code",
      "metadata": {
        "colab": {
          "base_uri": "https://localhost:8080/"
        },
        "id": "VogbcEmqe76h",
        "outputId": "faecb8e0-9521-4790-c702-a7fdd31ea3df"
      },
      "source": [
        "state_size"
      ],
      "execution_count": 8,
      "outputs": [
        {
          "output_type": "execute_result",
          "data": {
            "text/plain": [
              "16"
            ]
          },
          "metadata": {
            "tags": []
          },
          "execution_count": 8
        }
      ]
    },
    {
      "cell_type": "code",
      "metadata": {
        "id": "Ude7mbWRezJi"
      },
      "source": [
        "#rows --> states columns--> actions?\n",
        "q_table = np.zeros([state_size,action_size])"
      ],
      "execution_count": 9,
      "outputs": []
    },
    {
      "cell_type": "code",
      "metadata": {
        "colab": {
          "base_uri": "https://localhost:8080/"
        },
        "id": "pkF9sT97fFiG",
        "outputId": "7bdd120a-4204-4c6a-c614-67c901ecc366"
      },
      "source": [
        "q_table"
      ],
      "execution_count": 10,
      "outputs": [
        {
          "output_type": "execute_result",
          "data": {
            "text/plain": [
              "array([[0., 0., 0., 0.],\n",
              "       [0., 0., 0., 0.],\n",
              "       [0., 0., 0., 0.],\n",
              "       [0., 0., 0., 0.],\n",
              "       [0., 0., 0., 0.],\n",
              "       [0., 0., 0., 0.],\n",
              "       [0., 0., 0., 0.],\n",
              "       [0., 0., 0., 0.],\n",
              "       [0., 0., 0., 0.],\n",
              "       [0., 0., 0., 0.],\n",
              "       [0., 0., 0., 0.],\n",
              "       [0., 0., 0., 0.],\n",
              "       [0., 0., 0., 0.],\n",
              "       [0., 0., 0., 0.],\n",
              "       [0., 0., 0., 0.],\n",
              "       [0., 0., 0., 0.]])"
            ]
          },
          "metadata": {
            "tags": []
          },
          "execution_count": 10
        }
      ]
    },
    {
      "cell_type": "code",
      "metadata": {
        "id": "lTIH_coKfGpw"
      },
      "source": [
        "EPOCHS=20000 # how many times agent plays the game menas hitting with done\n"
      ],
      "execution_count": 11,
      "outputs": []
    },
    {
      "cell_type": "code",
      "metadata": {
        "id": "m9iNqUmyfkLj"
      },
      "source": [
        "ALPHA = 0.8 #learning rate\n",
        "GAMMA = 0.95 #DISCOUNT RATE "
      ],
      "execution_count": 12,
      "outputs": []
    },
    {
      "cell_type": "code",
      "metadata": {
        "id": "PhnqBLPaf4DD"
      },
      "source": [
        "epsilon = 1.0\n",
        "max_epsilon = 1.0\n",
        "min_epsilon = 0.01\n",
        "decay_rate = 0.001"
      ],
      "execution_count": 13,
      "outputs": []
    },
    {
      "cell_type": "code",
      "metadata": {
        "id": "YGGf85B5gI_X"
      },
      "source": [
        "def epsilon_greedy_action_selection(epsilon,q_table,discrete_state):\n",
        "\n",
        "  random_number = np.random.random()\n",
        "\n",
        "  #exploitation (choose the action that maximizes the Q)\n",
        "  if random_number > epsilon: # in starting exploration works but later epsilon value starts to decrease as they are in [0 to 1] once 0.65 > .70 example exists this cell run\n",
        "\n",
        "    state_row = q_table[discrete_state,:]  #discrete state here are 16 so grab that row  \n",
        "    # example it looks like this[0,0.1,0,0] and in terms of actions it looks loke this [0,1,2,3]\n",
        "\n",
        "    #the action will return the [0.1] or action 1\n",
        "    action = np.argmax(state_row) # grab the maximum index location of that row\n",
        "\n",
        "  #exploration (choose the random action)\n",
        "  else:\n",
        "    action = env.action_space.sample()\n",
        "\n",
        "  return action"
      ],
      "execution_count": 14,
      "outputs": []
    },
    {
      "cell_type": "code",
      "metadata": {
        "id": "TYc4RS1BpjY5"
      },
      "source": [
        "def compute_next_q_value(old_q_value,reward,next_optimal_q_value):\n",
        "\n",
        "  return old_q_value + ALPHA * (reward + GAMMA *next_optimal_q_value - old_q_value)"
      ],
      "execution_count": 15,
      "outputs": []
    },
    {
      "cell_type": "code",
      "metadata": {
        "id": "uqQSvKiBqULe"
      },
      "source": [
        "def reduce_epsilon(epsilon,epoch):\n",
        "\n",
        "  return min_epsilon + (max_epsilon-min_epsilon) * np.exp(-decay_rate*epoch)"
      ],
      "execution_count": 16,
      "outputs": []
    },
    {
      "cell_type": "code",
      "metadata": {
        "colab": {
          "base_uri": "https://localhost:8080/"
        },
        "id": "s4Sk7gT0xKQi",
        "outputId": "d69ca675-3139-430f-af41-85a4d97dd6f1"
      },
      "source": [
        "q_table"
      ],
      "execution_count": 17,
      "outputs": [
        {
          "output_type": "execute_result",
          "data": {
            "text/plain": [
              "array([[0., 0., 0., 0.],\n",
              "       [0., 0., 0., 0.],\n",
              "       [0., 0., 0., 0.],\n",
              "       [0., 0., 0., 0.],\n",
              "       [0., 0., 0., 0.],\n",
              "       [0., 0., 0., 0.],\n",
              "       [0., 0., 0., 0.],\n",
              "       [0., 0., 0., 0.],\n",
              "       [0., 0., 0., 0.],\n",
              "       [0., 0., 0., 0.],\n",
              "       [0., 0., 0., 0.],\n",
              "       [0., 0., 0., 0.],\n",
              "       [0., 0., 0., 0.],\n",
              "       [0., 0., 0., 0.],\n",
              "       [0., 0., 0., 0.],\n",
              "       [0., 0., 0., 0.]])"
            ]
          },
          "metadata": {
            "tags": []
          },
          "execution_count": 17
        }
      ]
    },
    {
      "cell_type": "code",
      "metadata": {
        "colab": {
          "base_uri": "https://localhost:8080/",
          "height": 265
        },
        "id": "MR-XmJ8bqqII",
        "outputId": "9bb53aa4-965e-45a2-ebda-4997019c2b53"
      },
      "source": [
        "rewards = []\n",
        "log_interval = 1000\n",
        "\n",
        "#########\n",
        "fig = plt.figure()\n",
        "ax = fig.add_subplot(111)\n",
        "plt.ion()\n",
        "fig.canvas.draw()\n",
        "epoch_plot_tracker=[]\n",
        "total_reward_plot_tracker = []\n",
        "#########\n",
        "for episode in range(EPOCHS):\n",
        "\n",
        "  state = env.reset()\n",
        "  done = False\n",
        "  total_rewards = 0\n",
        "\n",
        "#agent plays the game\n",
        "  while not done:\n",
        "    \n",
        "    #ACTION\n",
        "    action = epsilon_greedy_action_selection(epsilon, q_table, state) # above we defined as normal state\n",
        "\n",
        "    #state,rewrds .... env.step\n",
        "    new_state,reward,done,info = env.step(action)\n",
        "\n",
        "\n",
        "    #old (current)q value Q(st,at)\n",
        "    old_q_value = q_table[state,action]\n",
        "\n",
        "    #get next optimal q value ( max q value for this state) Q(st+1,at+1)\n",
        "    next_optimal_q_value = np.max(q_table[new_state,:])\n",
        "\n",
        "    #compute the next Q value\n",
        "    next_q = compute_next_q_value(old_q_value,reward,next_optimal_q_value)\n",
        "\n",
        "    #update the table\n",
        "    q_table[state,action] = next_q\n",
        "\n",
        "    #track rewards\n",
        "    total_rewards = total_rewards + reward\n",
        "\n",
        "    #new state is now the state\n",
        "    state = new_state\n",
        "\n",
        "#agent finshed round of the game\n",
        "  episode += 1\n",
        "\n",
        "  epsilon = reduce_epsilon(epsilon,episode)\n",
        "\n",
        "  rewards.append(total_rewards)\n",
        "\n",
        "  total_reward_plot_tracker.append(np.sum(rewards))\n",
        "  epoch_plot_tracker.append(episode)\n",
        "\n",
        "\n",
        "  if episode % log_interval == 0:\n",
        "    ax.clear()\n",
        "    ax.plot(epoch_plot_tracker,total_reward_plot_tracker)\n",
        "    fig.canvas.draw()\n",
        "\n",
        "env.close()"
      ],
      "execution_count": 18,
      "outputs": [
        {
          "output_type": "display_data",
          "data": {
            "image/png": "[encoded data removed]",
            "text/plain": [
              "<Figure size 432x288 with 1 Axes>"
            ]
          },
          "metadata": {
            "tags": [],
            "needs_background": "light"
          }
        }
      ]
    },
    {
      "cell_type": "code",
      "metadata": {
        "colab": {
          "base_uri": "https://localhost:8080/"
        },
        "id": "NS83lmNKumb8",
        "outputId": "52e161de-dd94-4f45-e0e6-d3831109111d"
      },
      "source": [
        "q_table"
      ],
      "execution_count": 28,
      "outputs": [
        {
          "output_type": "execute_result",
          "data": {
            "text/plain": [
              "array([[0.73509189, 0.77378094, 0.77378094, 0.73509189],\n",
              "       [0.73509189, 0.        , 0.81450625, 0.77378094],\n",
              "       [0.77378094, 0.857375  , 0.77378094, 0.81450625],\n",
              "       [0.81450625, 0.        , 0.77373141, 0.7737804 ],\n",
              "       [0.77378094, 0.81450625, 0.        , 0.73509189],\n",
              "       [0.        , 0.        , 0.        , 0.        ],\n",
              "       [0.        , 0.9025    , 0.        , 0.81450625],\n",
              "       [0.        , 0.        , 0.        , 0.        ],\n",
              "       [0.81450625, 0.        , 0.857375  , 0.77378094],\n",
              "       [0.81450625, 0.9025    , 0.9025    , 0.        ],\n",
              "       [0.857375  , 0.95      , 0.        , 0.857375  ],\n",
              "       [0.        , 0.        , 0.        , 0.        ],\n",
              "       [0.        , 0.        , 0.        , 0.        ],\n",
              "       [0.        , 0.9025    , 0.95      , 0.857375  ],\n",
              "       [0.9025    , 0.95      , 1.        , 0.9025    ],\n",
              "       [0.        , 0.        , 0.        , 0.        ]])"
            ]
          },
          "metadata": {
            "tags": []
          },
          "execution_count": 28
        }
      ]
    },
    {
      "cell_type": "code",
      "metadata": {
        "colab": {
          "base_uri": "https://localhost:8080/"
        },
        "id": "nA6HFqllv7sC",
        "outputId": "fbe3cd49-062c-4aaa-9527-657d466ca4f8"
      },
      "source": [
        "state = env.reset()\n",
        "\n",
        "for steps in range(100):\n",
        "  env.render()\n",
        "\n",
        "  action = np.argmax(q_table[state,:])\n",
        "  state,reward,done,info = env.step(action)\n",
        "\n",
        "  time.sleep(1)\n",
        "\n",
        "  clear_output(wait=True)\n",
        "\n",
        "  if done:\n",
        "    break\n",
        "\n",
        "env.close()"
      ],
      "execution_count": 29,
      "outputs": [
        {
          "output_type": "stream",
          "text": [
            "  (Right)\n",
            "SFFF\n",
            "FHFH\n",
            "FFFH\n",
            "HF\u001b[41mF\u001b[0mG\n"
          ],
          "name": "stdout"
        }
      ]
    },
    {
      "cell_type": "code",
      "metadata": {
        "id": "-zMKXdPPwiFY"
      },
      "source": [
        ""
      ],
      "execution_count": null,
      "outputs": []
    }
  ]
}