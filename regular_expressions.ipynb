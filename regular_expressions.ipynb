{
  "nbformat": 4,
  "nbformat_minor": 5,
  "metadata": {
    "kernelspec": {
      "display_name": "Python 3",
      "language": "python",
      "name": "python3"
    },
    "language_info": {
      "codemirror_mode": {
        "name": "ipython",
        "version": 3
      },
      "file_extension": ".py",
      "mimetype": "text/x-python",
      "name": "python",
      "nbconvert_exporter": "python",
      "pygments_lexer": "ipython3",
      "version": "3.7.9"
    },
    "colab": {
      "name": "regular_expressions.ipynb",
      "provenance": [],
      "collapsed_sections": [],
      "include_colab_link": true
    }
  },
  "cells": [
    {
      "cell_type": "markdown",
      "metadata": {
        "id": "view-in-github",
        "colab_type": "text"
      },
      "source": [
        "<a href=\"https://colab.research.google.com/github/kunjkinger/machine-learning-projects/blob/main/regular_expressions.ipynb\" target=\"_parent\"><img src=\"https://colab.research.google.com/assets/colab-badge.svg\" alt=\"Open In Colab\"/></a>"
      ]
    },
    {
      "cell_type": "code",
      "metadata": {
        "id": "chief-monster"
      },
      "source": [
        "text = \"the phone number of the agent sis 742-349-0901. Call soon!\""
      ],
      "id": "chief-monster",
      "execution_count": 1,
      "outputs": []
    },
    {
      "cell_type": "code",
      "metadata": {
        "colab": {
          "base_uri": "https://localhost:8080/"
        },
        "id": "dependent-democrat",
        "outputId": "a7912e73-be78-46aa-8296-38eeba22e895"
      },
      "source": [
        "'phone' in text"
      ],
      "id": "dependent-democrat",
      "execution_count": 2,
      "outputs": [
        {
          "output_type": "execute_result",
          "data": {
            "text/plain": [
              "True"
            ]
          },
          "metadata": {
            "tags": []
          },
          "execution_count": 2
        }
      ]
    },
    {
      "cell_type": "code",
      "metadata": {
        "id": "acquired-sunset"
      },
      "source": [
        "import re"
      ],
      "id": "acquired-sunset",
      "execution_count": 3,
      "outputs": []
    },
    {
      "cell_type": "code",
      "metadata": {
        "id": "approximate-medication"
      },
      "source": [
        "pattern = 'phone'"
      ],
      "id": "approximate-medication",
      "execution_count": 4,
      "outputs": []
    },
    {
      "cell_type": "code",
      "metadata": {
        "colab": {
          "base_uri": "https://localhost:8080/"
        },
        "id": "flush-david",
        "outputId": "f1cae3d3-aa96-4453-9147-7fdc9eefaf9b"
      },
      "source": [
        "re.search(pattern,text)"
      ],
      "id": "flush-david",
      "execution_count": 5,
      "outputs": [
        {
          "output_type": "execute_result",
          "data": {
            "text/plain": [
              "<re.Match object; span=(4, 9), match='phone'>"
            ]
          },
          "metadata": {
            "tags": []
          },
          "execution_count": 5
        }
      ]
    },
    {
      "cell_type": "code",
      "metadata": {
        "id": "tested-component"
      },
      "source": [
        "my_match = re.search(pattern,text)"
      ],
      "id": "tested-component",
      "execution_count": 6,
      "outputs": []
    },
    {
      "cell_type": "code",
      "metadata": {
        "colab": {
          "base_uri": "https://localhost:8080/"
        },
        "id": "helpful-kenya",
        "outputId": "150e9924-03cf-4a82-fc96-91b8e81c9eeb"
      },
      "source": [
        "my_match.span() # phone starts at indexing 4 and ends at 9"
      ],
      "id": "helpful-kenya",
      "execution_count": 7,
      "outputs": [
        {
          "output_type": "execute_result",
          "data": {
            "text/plain": [
              "(4, 9)"
            ]
          },
          "metadata": {
            "tags": []
          },
          "execution_count": 7
        }
      ]
    },
    {
      "cell_type": "code",
      "metadata": {
        "colab": {
          "base_uri": "https://localhost:8080/"
        },
        "id": "tight-legislature",
        "outputId": "b36d5bad-7fd0-44e2-9a05-f1115648b5e4"
      },
      "source": [
        "my_match.start()"
      ],
      "id": "tight-legislature",
      "execution_count": 9,
      "outputs": [
        {
          "output_type": "execute_result",
          "data": {
            "text/plain": [
              "4"
            ]
          },
          "metadata": {
            "tags": []
          },
          "execution_count": 9
        }
      ]
    },
    {
      "cell_type": "code",
      "metadata": {
        "colab": {
          "base_uri": "https://localhost:8080/"
        },
        "id": "OgNEwTRnDYfM",
        "outputId": "72202d95-a53e-4a93-efb2-4275674bd20d"
      },
      "source": [
        "my_match.end()"
      ],
      "id": "OgNEwTRnDYfM",
      "execution_count": 10,
      "outputs": [
        {
          "output_type": "execute_result",
          "data": {
            "text/plain": [
              "9"
            ]
          },
          "metadata": {
            "tags": []
          },
          "execution_count": 10
        }
      ]
    },
    {
      "cell_type": "code",
      "metadata": {
        "id": "oL31_pQ9Dh4H"
      },
      "source": [
        "text = 'my phone is a new phone'"
      ],
      "id": "oL31_pQ9Dh4H",
      "execution_count": 11,
      "outputs": []
    },
    {
      "cell_type": "code",
      "metadata": {
        "id": "Yvi0XaMcDn-m"
      },
      "source": [
        "match = re.search(pattern,text)"
      ],
      "id": "Yvi0XaMcDn-m",
      "execution_count": 12,
      "outputs": []
    },
    {
      "cell_type": "code",
      "metadata": {
        "colab": {
          "base_uri": "https://localhost:8080/"
        },
        "id": "HxaWKJtHDuN7",
        "outputId": "d1545bf9-5414-4bd7-aaf3-962295cf49c4"
      },
      "source": [
        "match.span()"
      ],
      "id": "HxaWKJtHDuN7",
      "execution_count": 13,
      "outputs": [
        {
          "output_type": "execute_result",
          "data": {
            "text/plain": [
              "(3, 8)"
            ]
          },
          "metadata": {
            "tags": []
          },
          "execution_count": 13
        }
      ]
    },
    {
      "cell_type": "code",
      "metadata": {
        "id": "accbitrfDvyj"
      },
      "source": [
        "all_match = re.findall('phone',text)"
      ],
      "id": "accbitrfDvyj",
      "execution_count": 18,
      "outputs": []
    },
    {
      "cell_type": "code",
      "metadata": {
        "colab": {
          "base_uri": "https://localhost:8080/"
        },
        "id": "LaQTFSq7D3FQ",
        "outputId": "fa254386-16d1-48a2-9288-370c2dc5b32b"
      },
      "source": [
        "all_match"
      ],
      "id": "LaQTFSq7D3FQ",
      "execution_count": 19,
      "outputs": [
        {
          "output_type": "execute_result",
          "data": {
            "text/plain": [
              "['phone', 'phone']"
            ]
          },
          "metadata": {
            "tags": []
          },
          "execution_count": 19
        }
      ]
    },
    {
      "cell_type": "code",
      "metadata": {
        "colab": {
          "base_uri": "https://localhost:8080/"
        },
        "id": "vK6iYWl1D4yI",
        "outputId": "3f6f0abe-95a9-4d07-d69f-3dab092648d4"
      },
      "source": [
        "len(all_match)  "
      ],
      "id": "vK6iYWl1D4yI",
      "execution_count": 20,
      "outputs": [
        {
          "output_type": "execute_result",
          "data": {
            "text/plain": [
              "2"
            ]
          },
          "metadata": {
            "tags": []
          },
          "execution_count": 20
        }
      ]
    },
    {
      "cell_type": "code",
      "metadata": {
        "id": "fjbHcCBWEDfS"
      },
      "source": [
        "text = 'ATGACTTCGCTGTTACGCGC'"
      ],
      "id": "fjbHcCBWEDfS",
      "execution_count": 32,
      "outputs": []
    },
    {
      "cell_type": "code",
      "metadata": {
        "id": "E3JpCJopEJGr"
      },
      "source": [
        "pattern = 'CGC'"
      ],
      "id": "E3JpCJopEJGr",
      "execution_count": 33,
      "outputs": []
    },
    {
      "cell_type": "code",
      "metadata": {
        "id": "eovIXKbRELMx"
      },
      "source": [
        "match = re.search(pattern,text) # return the first match"
      ],
      "id": "eovIXKbRELMx",
      "execution_count": 34,
      "outputs": []
    },
    {
      "cell_type": "code",
      "metadata": {
        "colab": {
          "base_uri": "https://localhost:8080/"
        },
        "id": "WaSxxOrdEO8k",
        "outputId": "ad123233-6070-43af-c732-fc3f94776bca"
      },
      "source": [
        "match.span()"
      ],
      "id": "WaSxxOrdEO8k",
      "execution_count": 35,
      "outputs": [
        {
          "output_type": "execute_result",
          "data": {
            "text/plain": [
              "(7, 10)"
            ]
          },
          "metadata": {
            "tags": []
          },
          "execution_count": 35
        }
      ]
    },
    {
      "cell_type": "code",
      "metadata": {
        "id": "SVKC1mngEXSn"
      },
      "source": [
        "all_matches = re.findall(pattern,text) # return the all matches"
      ],
      "id": "SVKC1mngEXSn",
      "execution_count": 36,
      "outputs": []
    },
    {
      "cell_type": "code",
      "metadata": {
        "colab": {
          "base_uri": "https://localhost:8080/"
        },
        "id": "h898oxPTEkDw",
        "outputId": "82b27daa-fe67-4e18-af9e-eabf296e401d"
      },
      "source": [
        "all_matches"
      ],
      "id": "h898oxPTEkDw",
      "execution_count": 37,
      "outputs": [
        {
          "output_type": "execute_result",
          "data": {
            "text/plain": [
              "['CGC', 'CGC']"
            ]
          },
          "metadata": {
            "tags": []
          },
          "execution_count": 37
        }
      ]
    },
    {
      "cell_type": "code",
      "metadata": {
        "colab": {
          "base_uri": "https://localhost:8080/"
        },
        "id": "eZVHTyjcEl51",
        "outputId": "2182b23b-4658-4ee1-c9cd-89106a7ef237"
      },
      "source": [
        "for match in re.finditer(pattern,text):\n",
        "  print(match.span())"
      ],
      "id": "eZVHTyjcEl51",
      "execution_count": 38,
      "outputs": [
        {
          "output_type": "stream",
          "text": [
            "(7, 10)\n",
            "(15, 18)\n"
          ],
          "name": "stdout"
        }
      ]
    },
    {
      "cell_type": "code",
      "metadata": {
        "id": "FsU-tMF4E6to"
      },
      "source": [
        ""
      ],
      "id": "FsU-tMF4E6to",
      "execution_count": null,
      "outputs": []
    }
  ]
}